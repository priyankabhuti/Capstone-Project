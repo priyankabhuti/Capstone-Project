{
  "cells": [
    {
      "cell_type": "markdown",
      "metadata": {
        "id": "EuYEfe6Y0JlQ"
      },
      "source": [
        "**1. Data Collection and Cleaning.**"
      ]
    },
    {
      "cell_type": "markdown",
      "metadata": {
        "id": "pkuxkwht2YI0"
      },
      "source": [
        "1.1 Importing libraries."
      ]
    },
    {
      "cell_type": "code",
      "execution_count": 1,
      "metadata": {
        "id": "ZU4gHy2G2a4a"
      },
      "outputs": [],
      "source": [
        "import pandas as pd\n",
        "import seaborn as sns\n",
        "import numpy as np\n",
        "import matplotlib.pyplot as plt\n",
        "\n",
        "import warnings\n",
        "warnings.filterwarnings('ignore')"
      ]
    },
    {
      "cell_type": "markdown",
      "metadata": {
        "id": "PRtqSIPQ2cWg"
      },
      "source": [
        "1.2 Reading the csv file."
      ]
    },
    {
      "cell_type": "code",
      "execution_count": 2,
      "metadata": {
        "colab": {
          "base_uri": "https://localhost:8080/",
          "height": 300
        },
        "id": "8fzDjTB42OBj",
        "outputId": "dc55f63f-c2c2-4501-8dc1-9abb465a7118"
      },
      "outputs": [
        {
          "output_type": "execute_result",
          "data": {
            "text/plain": [
              "   click    C1  banner_pos   site_id site_domain site_category    app_id  \\\n",
              "0  False  1005           1  856e6d3f    58a89a43      f028772b  ecad2386   \n",
              "1   True  1005           1  e151e245    7e091613      f028772b  ecad2386   \n",
              "2  False  1005           0  e3c09f3a    d262cf1e      28905ebd  ecad2386   \n",
              "3  False  1002           0  0da94452    248e439f      50e219e0  ecad2386   \n",
              "4   True  1005           0  1fbe01fe    f3845767      28905ebd  ecad2386   \n",
              "\n",
              "  app_domain app_category device_id  ...   C17 C18  C19     C20  C21  month  \\\n",
              "0   7801e8d9     07d7df22  a99f214a  ...  2528   0   39  100075  221     10   \n",
              "1   7801e8d9     07d7df22  a99f214a  ...  1934   2   39      -1   16     10   \n",
              "2   7801e8d9     07d7df22  a99f214a  ...  2552   3  167  100202   23     10   \n",
              "3   7801e8d9     07d7df22  0fa578fd  ...  2478   3  167  100074   23     10   \n",
              "4   7801e8d9     07d7df22  a99f214a  ...  1722   0   35      -1   79     10   \n",
              "\n",
              "   dayofweek  day  hour  y  \n",
              "0          1   28    14  0  \n",
              "1          2   22    19  1  \n",
              "2          3   23    18  0  \n",
              "3          2   22    19  0  \n",
              "4          1   21     8  1  \n",
              "\n",
              "[5 rows x 27 columns]"
            ],
            "text/html": [
              "\n",
              "  <div id=\"df-34af170f-cf4c-41cd-be17-e8ad9429fd22\">\n",
              "    <div class=\"colab-df-container\">\n",
              "      <div>\n",
              "<style scoped>\n",
              "    .dataframe tbody tr th:only-of-type {\n",
              "        vertical-align: middle;\n",
              "    }\n",
              "\n",
              "    .dataframe tbody tr th {\n",
              "        vertical-align: top;\n",
              "    }\n",
              "\n",
              "    .dataframe thead th {\n",
              "        text-align: right;\n",
              "    }\n",
              "</style>\n",
              "<table border=\"1\" class=\"dataframe\">\n",
              "  <thead>\n",
              "    <tr style=\"text-align: right;\">\n",
              "      <th></th>\n",
              "      <th>click</th>\n",
              "      <th>C1</th>\n",
              "      <th>banner_pos</th>\n",
              "      <th>site_id</th>\n",
              "      <th>site_domain</th>\n",
              "      <th>site_category</th>\n",
              "      <th>app_id</th>\n",
              "      <th>app_domain</th>\n",
              "      <th>app_category</th>\n",
              "      <th>device_id</th>\n",
              "      <th>...</th>\n",
              "      <th>C17</th>\n",
              "      <th>C18</th>\n",
              "      <th>C19</th>\n",
              "      <th>C20</th>\n",
              "      <th>C21</th>\n",
              "      <th>month</th>\n",
              "      <th>dayofweek</th>\n",
              "      <th>day</th>\n",
              "      <th>hour</th>\n",
              "      <th>y</th>\n",
              "    </tr>\n",
              "  </thead>\n",
              "  <tbody>\n",
              "    <tr>\n",
              "      <th>0</th>\n",
              "      <td>False</td>\n",
              "      <td>1005</td>\n",
              "      <td>1</td>\n",
              "      <td>856e6d3f</td>\n",
              "      <td>58a89a43</td>\n",
              "      <td>f028772b</td>\n",
              "      <td>ecad2386</td>\n",
              "      <td>7801e8d9</td>\n",
              "      <td>07d7df22</td>\n",
              "      <td>a99f214a</td>\n",
              "      <td>...</td>\n",
              "      <td>2528</td>\n",
              "      <td>0</td>\n",
              "      <td>39</td>\n",
              "      <td>100075</td>\n",
              "      <td>221</td>\n",
              "      <td>10</td>\n",
              "      <td>1</td>\n",
              "      <td>28</td>\n",
              "      <td>14</td>\n",
              "      <td>0</td>\n",
              "    </tr>\n",
              "    <tr>\n",
              "      <th>1</th>\n",
              "      <td>True</td>\n",
              "      <td>1005</td>\n",
              "      <td>1</td>\n",
              "      <td>e151e245</td>\n",
              "      <td>7e091613</td>\n",
              "      <td>f028772b</td>\n",
              "      <td>ecad2386</td>\n",
              "      <td>7801e8d9</td>\n",
              "      <td>07d7df22</td>\n",
              "      <td>a99f214a</td>\n",
              "      <td>...</td>\n",
              "      <td>1934</td>\n",
              "      <td>2</td>\n",
              "      <td>39</td>\n",
              "      <td>-1</td>\n",
              "      <td>16</td>\n",
              "      <td>10</td>\n",
              "      <td>2</td>\n",
              "      <td>22</td>\n",
              "      <td>19</td>\n",
              "      <td>1</td>\n",
              "    </tr>\n",
              "    <tr>\n",
              "      <th>2</th>\n",
              "      <td>False</td>\n",
              "      <td>1005</td>\n",
              "      <td>0</td>\n",
              "      <td>e3c09f3a</td>\n",
              "      <td>d262cf1e</td>\n",
              "      <td>28905ebd</td>\n",
              "      <td>ecad2386</td>\n",
              "      <td>7801e8d9</td>\n",
              "      <td>07d7df22</td>\n",
              "      <td>a99f214a</td>\n",
              "      <td>...</td>\n",
              "      <td>2552</td>\n",
              "      <td>3</td>\n",
              "      <td>167</td>\n",
              "      <td>100202</td>\n",
              "      <td>23</td>\n",
              "      <td>10</td>\n",
              "      <td>3</td>\n",
              "      <td>23</td>\n",
              "      <td>18</td>\n",
              "      <td>0</td>\n",
              "    </tr>\n",
              "    <tr>\n",
              "      <th>3</th>\n",
              "      <td>False</td>\n",
              "      <td>1002</td>\n",
              "      <td>0</td>\n",
              "      <td>0da94452</td>\n",
              "      <td>248e439f</td>\n",
              "      <td>50e219e0</td>\n",
              "      <td>ecad2386</td>\n",
              "      <td>7801e8d9</td>\n",
              "      <td>07d7df22</td>\n",
              "      <td>0fa578fd</td>\n",
              "      <td>...</td>\n",
              "      <td>2478</td>\n",
              "      <td>3</td>\n",
              "      <td>167</td>\n",
              "      <td>100074</td>\n",
              "      <td>23</td>\n",
              "      <td>10</td>\n",
              "      <td>2</td>\n",
              "      <td>22</td>\n",
              "      <td>19</td>\n",
              "      <td>0</td>\n",
              "    </tr>\n",
              "    <tr>\n",
              "      <th>4</th>\n",
              "      <td>True</td>\n",
              "      <td>1005</td>\n",
              "      <td>0</td>\n",
              "      <td>1fbe01fe</td>\n",
              "      <td>f3845767</td>\n",
              "      <td>28905ebd</td>\n",
              "      <td>ecad2386</td>\n",
              "      <td>7801e8d9</td>\n",
              "      <td>07d7df22</td>\n",
              "      <td>a99f214a</td>\n",
              "      <td>...</td>\n",
              "      <td>1722</td>\n",
              "      <td>0</td>\n",
              "      <td>35</td>\n",
              "      <td>-1</td>\n",
              "      <td>79</td>\n",
              "      <td>10</td>\n",
              "      <td>1</td>\n",
              "      <td>21</td>\n",
              "      <td>8</td>\n",
              "      <td>1</td>\n",
              "    </tr>\n",
              "  </tbody>\n",
              "</table>\n",
              "<p>5 rows × 27 columns</p>\n",
              "</div>\n",
              "      <button class=\"colab-df-convert\" onclick=\"convertToInteractive('df-34af170f-cf4c-41cd-be17-e8ad9429fd22')\"\n",
              "              title=\"Convert this dataframe to an interactive table.\"\n",
              "              style=\"display:none;\">\n",
              "        \n",
              "  <svg xmlns=\"http://www.w3.org/2000/svg\" height=\"24px\"viewBox=\"0 0 24 24\"\n",
              "       width=\"24px\">\n",
              "    <path d=\"M0 0h24v24H0V0z\" fill=\"none\"/>\n",
              "    <path d=\"M18.56 5.44l.94 2.06.94-2.06 2.06-.94-2.06-.94-.94-2.06-.94 2.06-2.06.94zm-11 1L8.5 8.5l.94-2.06 2.06-.94-2.06-.94L8.5 2.5l-.94 2.06-2.06.94zm10 10l.94 2.06.94-2.06 2.06-.94-2.06-.94-.94-2.06-.94 2.06-2.06.94z\"/><path d=\"M17.41 7.96l-1.37-1.37c-.4-.4-.92-.59-1.43-.59-.52 0-1.04.2-1.43.59L10.3 9.45l-7.72 7.72c-.78.78-.78 2.05 0 2.83L4 21.41c.39.39.9.59 1.41.59.51 0 1.02-.2 1.41-.59l7.78-7.78 2.81-2.81c.8-.78.8-2.07 0-2.86zM5.41 20L4 18.59l7.72-7.72 1.47 1.35L5.41 20z\"/>\n",
              "  </svg>\n",
              "      </button>\n",
              "      \n",
              "  <style>\n",
              "    .colab-df-container {\n",
              "      display:flex;\n",
              "      flex-wrap:wrap;\n",
              "      gap: 12px;\n",
              "    }\n",
              "\n",
              "    .colab-df-convert {\n",
              "      background-color: #E8F0FE;\n",
              "      border: none;\n",
              "      border-radius: 50%;\n",
              "      cursor: pointer;\n",
              "      display: none;\n",
              "      fill: #1967D2;\n",
              "      height: 32px;\n",
              "      padding: 0 0 0 0;\n",
              "      width: 32px;\n",
              "    }\n",
              "\n",
              "    .colab-df-convert:hover {\n",
              "      background-color: #E2EBFA;\n",
              "      box-shadow: 0px 1px 2px rgba(60, 64, 67, 0.3), 0px 1px 3px 1px rgba(60, 64, 67, 0.15);\n",
              "      fill: #174EA6;\n",
              "    }\n",
              "\n",
              "    [theme=dark] .colab-df-convert {\n",
              "      background-color: #3B4455;\n",
              "      fill: #D2E3FC;\n",
              "    }\n",
              "\n",
              "    [theme=dark] .colab-df-convert:hover {\n",
              "      background-color: #434B5C;\n",
              "      box-shadow: 0px 1px 3px 1px rgba(0, 0, 0, 0.15);\n",
              "      filter: drop-shadow(0px 1px 2px rgba(0, 0, 0, 0.3));\n",
              "      fill: #FFFFFF;\n",
              "    }\n",
              "  </style>\n",
              "\n",
              "      <script>\n",
              "        const buttonEl =\n",
              "          document.querySelector('#df-34af170f-cf4c-41cd-be17-e8ad9429fd22 button.colab-df-convert');\n",
              "        buttonEl.style.display =\n",
              "          google.colab.kernel.accessAllowed ? 'block' : 'none';\n",
              "\n",
              "        async function convertToInteractive(key) {\n",
              "          const element = document.querySelector('#df-34af170f-cf4c-41cd-be17-e8ad9429fd22');\n",
              "          const dataTable =\n",
              "            await google.colab.kernel.invokeFunction('convertToInteractive',\n",
              "                                                     [key], {});\n",
              "          if (!dataTable) return;\n",
              "\n",
              "          const docLinkHtml = 'Like what you see? Visit the ' +\n",
              "            '<a target=\"_blank\" href=https://colab.research.google.com/notebooks/data_table.ipynb>data table notebook</a>'\n",
              "            + ' to learn more about interactive tables.';\n",
              "          element.innerHTML = '';\n",
              "          dataTable['output_type'] = 'display_data';\n",
              "          await google.colab.output.renderOutput(dataTable, element);\n",
              "          const docLink = document.createElement('div');\n",
              "          docLink.innerHTML = docLinkHtml;\n",
              "          element.appendChild(docLink);\n",
              "        }\n",
              "      </script>\n",
              "    </div>\n",
              "  </div>\n",
              "  "
            ]
          },
          "metadata": {},
          "execution_count": 2
        }
      ],
      "source": [
        "path = \"/content/drive/MyDrive/data.csv\"\n",
        "df = pd.read_csv(path)\n",
        "df. head()"
      ]
    },
    {
      "cell_type": "code",
      "execution_count": 3,
      "metadata": {
        "colab": {
          "base_uri": "https://localhost:8080/"
        },
        "id": "c1F3qn6twuzf",
        "outputId": "2645efcb-9b15-42fb-de59-d525cb76313d"
      },
      "outputs": [
        {
          "output_type": "stream",
          "name": "stdout",
          "text": [
            "<class 'pandas.core.frame.DataFrame'>\n",
            "RangeIndex: 99999 entries, 0 to 99998\n",
            "Data columns (total 27 columns):\n",
            " #   Column            Non-Null Count  Dtype \n",
            "---  ------            --------------  ----- \n",
            " 0   click             99999 non-null  bool  \n",
            " 1   C1                99999 non-null  int64 \n",
            " 2   banner_pos        99999 non-null  int64 \n",
            " 3   site_id           99999 non-null  object\n",
            " 4   site_domain       99999 non-null  object\n",
            " 5   site_category     99999 non-null  object\n",
            " 6   app_id            99999 non-null  object\n",
            " 7   app_domain        99999 non-null  object\n",
            " 8   app_category      99999 non-null  object\n",
            " 9   device_id         99999 non-null  object\n",
            " 10  device_ip         99999 non-null  object\n",
            " 11  device_model      99999 non-null  object\n",
            " 12  device_type       99999 non-null  int64 \n",
            " 13  device_conn_type  99999 non-null  int64 \n",
            " 14  C14               99999 non-null  int64 \n",
            " 15  C15               99999 non-null  int64 \n",
            " 16  C16               99999 non-null  int64 \n",
            " 17  C17               99999 non-null  int64 \n",
            " 18  C18               99999 non-null  int64 \n",
            " 19  C19               99999 non-null  int64 \n",
            " 20  C20               99999 non-null  int64 \n",
            " 21  C21               99999 non-null  int64 \n",
            " 22  month             99999 non-null  int64 \n",
            " 23  dayofweek         99999 non-null  int64 \n",
            " 24  day               99999 non-null  int64 \n",
            " 25  hour              99999 non-null  int64 \n",
            " 26  y                 99999 non-null  int64 \n",
            "dtypes: bool(1), int64(17), object(9)\n",
            "memory usage: 19.9+ MB\n"
          ]
        }
      ],
      "source": [
        "df.info()"
      ]
    },
    {
      "cell_type": "markdown",
      "metadata": {
        "id": "fHcf1E6ACcXu"
      },
      "source": [
        "1.3 Missing Value Treatment"
      ]
    },
    {
      "cell_type": "code",
      "execution_count": 4,
      "metadata": {
        "colab": {
          "base_uri": "https://localhost:8080/"
        },
        "id": "TrkYTWZSw0Rp",
        "outputId": "02415312-e563-4876-f8ff-15bf3c6bceb2"
      },
      "outputs": [
        {
          "output_type": "execute_result",
          "data": {
            "text/plain": [
              "click               0\n",
              "C1                  0\n",
              "banner_pos          0\n",
              "site_id             0\n",
              "site_domain         0\n",
              "site_category       0\n",
              "app_id              0\n",
              "app_domain          0\n",
              "app_category        0\n",
              "device_id           0\n",
              "device_ip           0\n",
              "device_model        0\n",
              "device_type         0\n",
              "device_conn_type    0\n",
              "C14                 0\n",
              "C15                 0\n",
              "C16                 0\n",
              "C17                 0\n",
              "C18                 0\n",
              "C19                 0\n",
              "C20                 0\n",
              "C21                 0\n",
              "month               0\n",
              "dayofweek           0\n",
              "day                 0\n",
              "hour                0\n",
              "y                   0\n",
              "dtype: int64"
            ]
          },
          "metadata": {},
          "execution_count": 4
        }
      ],
      "source": [
        "df.isnull().sum()"
      ]
    },
    {
      "cell_type": "code",
      "execution_count": 5,
      "metadata": {
        "colab": {
          "base_uri": "https://localhost:8080/",
          "height": 362
        },
        "id": "Fh3kyQ0f3i5a",
        "outputId": "3e1dbce2-91a4-44ad-a9ce-0771ec5679b1"
      },
      "outputs": [
        {
          "output_type": "execute_result",
          "data": {
            "text/plain": [
              "<matplotlib.axes._subplots.AxesSubplot at 0x7f104a20bc40>"
            ]
          },
          "metadata": {},
          "execution_count": 5
        },
        {
          "output_type": "display_data",
          "data": {
            "text/plain": [
              "<Figure size 432x288 with 1 Axes>"
            ],
            "image/png": "[encoded data removed]"
          },
          "metadata": {
            "needs_background": "light"
          }
        }
      ],
      "source": [
        "#Plotting the missing values columns.\n",
        "missing_data = (df.isnull().sum()/df.isnull().count()).sort_values(ascending=False).head(20)\n",
        "missing_data.plot.bar()"
      ]
    },
    {
      "cell_type": "markdown",
      "metadata": {
        "id": "yBIbQEqQw4Ax"
      },
      "source": [
        "There are no null values.\n"
      ]
    },
    {
      "cell_type": "markdown",
      "metadata": {
        "id": "hHM6iFbrfV9e"
      },
      "source": [
        "\n",
        "\n",
        "**2. Categorical Variable Treatment**\n"
      ]
    },
    {
      "cell_type": "code",
      "execution_count": 6,
      "metadata": {
        "colab": {
          "base_uri": "https://localhost:8080/"
        },
        "id": "YhPIlzruWq6f",
        "outputId": "e71308c8-a763-41ce-8497-d64aeccc1d57"
      },
      "outputs": [
        {
          "output_type": "execute_result",
          "data": {
            "text/plain": [
              "Index(['click', 'C1', 'banner_pos', 'site_id', 'site_domain', 'site_category',\n",
              "       'app_id', 'app_domain', 'app_category', 'device_id', 'device_ip',\n",
              "       'device_model', 'device_type', 'device_conn_type', 'C14', 'C15', 'C16',\n",
              "       'C17', 'C18', 'C19', 'C20', 'C21', 'month', 'dayofweek', 'day', 'hour',\n",
              "       'y'],\n",
              "      dtype='object')"
            ]
          },
          "metadata": {},
          "execution_count": 6
        }
      ],
      "source": [
        "df.columns"
      ]
    },
    {
      "cell_type": "code",
      "execution_count": 7,
      "metadata": {
        "colab": {
          "base_uri": "https://localhost:8080/",
          "height": 250
        },
        "id": "gX8kBDykXKSR",
        "outputId": "576dc483-9826-4626-ad8e-0c8286200f0c"
      },
      "outputs": [
        {
          "output_type": "execute_result",
          "data": {
            "text/plain": [
              "   banner_pos   site_id site_domain site_category    app_id app_domain  \\\n",
              "0           1  856e6d3f    58a89a43      f028772b  ecad2386   7801e8d9   \n",
              "1           1  e151e245    7e091613      f028772b  ecad2386   7801e8d9   \n",
              "2           0  e3c09f3a    d262cf1e      28905ebd  ecad2386   7801e8d9   \n",
              "3           0  0da94452    248e439f      50e219e0  ecad2386   7801e8d9   \n",
              "4           0  1fbe01fe    f3845767      28905ebd  ecad2386   7801e8d9   \n",
              "\n",
              "  app_category device_model  device_type  device_conn_type  dayofweek  day  \\\n",
              "0     07d7df22     be6db1d7            1                 0          1   28   \n",
              "1     07d7df22     1b13b020            1                 0          2   22   \n",
              "2     07d7df22     9a45a8e8            1                 0          3   23   \n",
              "3     07d7df22     ea6abc60            0                 0          2   22   \n",
              "4     07d7df22     36d749e5            1                 0          1   21   \n",
              "\n",
              "   hour  y  \n",
              "0    14  0  \n",
              "1    19  1  \n",
              "2    18  0  \n",
              "3    19  0  \n",
              "4     8  1  "
            ],
            "text/html": [
              "\n",
              "  <div id=\"df-d0164787-0550-454d-b750-6ca4662b53b2\">\n",
              "    <div class=\"colab-df-container\">\n",
              "      <div>\n",
              "<style scoped>\n",
              "    .dataframe tbody tr th:only-of-type {\n",
              "        vertical-align: middle;\n",
              "    }\n",
              "\n",
              "    .dataframe tbody tr th {\n",
              "        vertical-align: top;\n",
              "    }\n",
              "\n",
              "    .dataframe thead th {\n",
              "        text-align: right;\n",
              "    }\n",
              "</style>\n",
              "<table border=\"1\" class=\"dataframe\">\n",
              "  <thead>\n",
              "    <tr style=\"text-align: right;\">\n",
              "      <th></th>\n",
              "      <th>banner_pos</th>\n",
              "      <th>site_id</th>\n",
              "      <th>site_domain</th>\n",
              "      <th>site_category</th>\n",
              "      <th>app_id</th>\n",
              "      <th>app_domain</th>\n",
              "      <th>app_category</th>\n",
              "      <th>device_model</th>\n",
              "      <th>device_type</th>\n",
              "      <th>device_conn_type</th>\n",
              "      <th>dayofweek</th>\n",
              "      <th>day</th>\n",
              "      <th>hour</th>\n",
              "      <th>y</th>\n",
              "    </tr>\n",
              "  </thead>\n",
              "  <tbody>\n",
              "    <tr>\n",
              "      <th>0</th>\n",
              "      <td>1</td>\n",
              "      <td>856e6d3f</td>\n",
              "      <td>58a89a43</td>\n",
              "      <td>f028772b</td>\n",
              "      <td>ecad2386</td>\n",
              "      <td>7801e8d9</td>\n",
              "      <td>07d7df22</td>\n",
              "      <td>be6db1d7</td>\n",
              "      <td>1</td>\n",
              "      <td>0</td>\n",
              "      <td>1</td>\n",
              "      <td>28</td>\n",
              "      <td>14</td>\n",
              "      <td>0</td>\n",
              "    </tr>\n",
              "    <tr>\n",
              "      <th>1</th>\n",
              "      <td>1</td>\n",
              "      <td>e151e245</td>\n",
              "      <td>7e091613</td>\n",
              "      <td>f028772b</td>\n",
              "      <td>ecad2386</td>\n",
              "      <td>7801e8d9</td>\n",
              "      <td>07d7df22</td>\n",
              "      <td>1b13b020</td>\n",
              "      <td>1</td>\n",
              "      <td>0</td>\n",
              "      <td>2</td>\n",
              "      <td>22</td>\n",
              "      <td>19</td>\n",
              "      <td>1</td>\n",
              "    </tr>\n",
              "    <tr>\n",
              "      <th>2</th>\n",
              "      <td>0</td>\n",
              "      <td>e3c09f3a</td>\n",
              "      <td>d262cf1e</td>\n",
              "      <td>28905ebd</td>\n",
              "      <td>ecad2386</td>\n",
              "      <td>7801e8d9</td>\n",
              "      <td>07d7df22</td>\n",
              "      <td>9a45a8e8</td>\n",
              "      <td>1</td>\n",
              "      <td>0</td>\n",
              "      <td>3</td>\n",
              "      <td>23</td>\n",
              "      <td>18</td>\n",
              "      <td>0</td>\n",
              "    </tr>\n",
              "    <tr>\n",
              "      <th>3</th>\n",
              "      <td>0</td>\n",
              "      <td>0da94452</td>\n",
              "      <td>248e439f</td>\n",
              "      <td>50e219e0</td>\n",
              "      <td>ecad2386</td>\n",
              "      <td>7801e8d9</td>\n",
              "      <td>07d7df22</td>\n",
              "      <td>ea6abc60</td>\n",
              "      <td>0</td>\n",
              "      <td>0</td>\n",
              "      <td>2</td>\n",
              "      <td>22</td>\n",
              "      <td>19</td>\n",
              "      <td>0</td>\n",
              "    </tr>\n",
              "    <tr>\n",
              "      <th>4</th>\n",
              "      <td>0</td>\n",
              "      <td>1fbe01fe</td>\n",
              "      <td>f3845767</td>\n",
              "      <td>28905ebd</td>\n",
              "      <td>ecad2386</td>\n",
              "      <td>7801e8d9</td>\n",
              "      <td>07d7df22</td>\n",
              "      <td>36d749e5</td>\n",
              "      <td>1</td>\n",
              "      <td>0</td>\n",
              "      <td>1</td>\n",
              "      <td>21</td>\n",
              "      <td>8</td>\n",
              "      <td>1</td>\n",
              "    </tr>\n",
              "  </tbody>\n",
              "</table>\n",
              "</div>\n",
              "      <button class=\"colab-df-convert\" onclick=\"convertToInteractive('df-d0164787-0550-454d-b750-6ca4662b53b2')\"\n",
              "              title=\"Convert this dataframe to an interactive table.\"\n",
              "              style=\"display:none;\">\n",
              "        \n",
              "  <svg xmlns=\"http://www.w3.org/2000/svg\" height=\"24px\"viewBox=\"0 0 24 24\"\n",
              "       width=\"24px\">\n",
              "    <path d=\"M0 0h24v24H0V0z\" fill=\"none\"/>\n",
              "    <path d=\"M18.56 5.44l.94 2.06.94-2.06 2.06-.94-2.06-.94-.94-2.06-.94 2.06-2.06.94zm-11 1L8.5 8.5l.94-2.06 2.06-.94-2.06-.94L8.5 2.5l-.94 2.06-2.06.94zm10 10l.94 2.06.94-2.06 2.06-.94-2.06-.94-.94-2.06-.94 2.06-2.06.94z\"/><path d=\"M17.41 7.96l-1.37-1.37c-.4-.4-.92-.59-1.43-.59-.52 0-1.04.2-1.43.59L10.3 9.45l-7.72 7.72c-.78.78-.78 2.05 0 2.83L4 21.41c.39.39.9.59 1.41.59.51 0 1.02-.2 1.41-.59l7.78-7.78 2.81-2.81c.8-.78.8-2.07 0-2.86zM5.41 20L4 18.59l7.72-7.72 1.47 1.35L5.41 20z\"/>\n",
              "  </svg>\n",
              "      </button>\n",
              "      \n",
              "  <style>\n",
              "    .colab-df-container {\n",
              "      display:flex;\n",
              "      flex-wrap:wrap;\n",
              "      gap: 12px;\n",
              "    }\n",
              "\n",
              "    .colab-df-convert {\n",
              "      background-color: #E8F0FE;\n",
              "      border: none;\n",
              "      border-radius: 50%;\n",
              "      cursor: pointer;\n",
              "      display: none;\n",
              "      fill: #1967D2;\n",
              "      height: 32px;\n",
              "      padding: 0 0 0 0;\n",
              "      width: 32px;\n",
              "    }\n",
              "\n",
              "    .colab-df-convert:hover {\n",
              "      background-color: #E2EBFA;\n",
              "      box-shadow: 0px 1px 2px rgba(60, 64, 67, 0.3), 0px 1px 3px 1px rgba(60, 64, 67, 0.15);\n",
              "      fill: #174EA6;\n",
              "    }\n",
              "\n",
              "    [theme=dark] .colab-df-convert {\n",
              "      background-color: #3B4455;\n",
              "      fill: #D2E3FC;\n",
              "    }\n",
              "\n",
              "    [theme=dark] .colab-df-convert:hover {\n",
              "      background-color: #434B5C;\n",
              "      box-shadow: 0px 1px 3px 1px rgba(0, 0, 0, 0.15);\n",
              "      filter: drop-shadow(0px 1px 2px rgba(0, 0, 0, 0.3));\n",
              "      fill: #FFFFFF;\n",
              "    }\n",
              "  </style>\n",
              "\n",
              "      <script>\n",
              "        const buttonEl =\n",
              "          document.querySelector('#df-d0164787-0550-454d-b750-6ca4662b53b2 button.colab-df-convert');\n",
              "        buttonEl.style.display =\n",
              "          google.colab.kernel.accessAllowed ? 'block' : 'none';\n",
              "\n",
              "        async function convertToInteractive(key) {\n",
              "          const element = document.querySelector('#df-d0164787-0550-454d-b750-6ca4662b53b2');\n",
              "          const dataTable =\n",
              "            await google.colab.kernel.invokeFunction('convertToInteractive',\n",
              "                                                     [key], {});\n",
              "          if (!dataTable) return;\n",
              "\n",
              "          const docLinkHtml = 'Like what you see? Visit the ' +\n",
              "            '<a target=\"_blank\" href=https://colab.research.google.com/notebooks/data_table.ipynb>data table notebook</a>'\n",
              "            + ' to learn more about interactive tables.';\n",
              "          element.innerHTML = '';\n",
              "          dataTable['output_type'] = 'display_data';\n",
              "          await google.colab.output.renderOutput(dataTable, element);\n",
              "          const docLink = document.createElement('div');\n",
              "          docLink.innerHTML = docLinkHtml;\n",
              "          element.appendChild(docLink);\n",
              "        }\n",
              "      </script>\n",
              "    </div>\n",
              "  </div>\n",
              "  "
            ]
          },
          "metadata": {},
          "execution_count": 7
        }
      ],
      "source": [
        "#Dropping the unnecesary columns\n",
        "df = df.drop(['click', 'month', 'device_ip', 'device_id' ,'C14', 'C15', 'C16',\n",
        "       'C17', 'C18', 'C19', 'C20', 'C21', 'C1'], axis = 1)\n",
        "df.head()"
      ]
    },
    {
      "cell_type": "code",
      "execution_count": 8,
      "metadata": {
        "colab": {
          "base_uri": "https://localhost:8080/"
        },
        "id": "lbu5X4Ilb8qO",
        "outputId": "c866094f-1efc-4076-c4b7-a4f5a1df941a"
      },
      "outputs": [
        {
          "output_type": "stream",
          "name": "stdout",
          "text": [
            "<class 'pandas.core.frame.DataFrame'>\n",
            "RangeIndex: 99999 entries, 0 to 99998\n",
            "Data columns (total 14 columns):\n",
            " #   Column            Non-Null Count  Dtype \n",
            "---  ------            --------------  ----- \n",
            " 0   banner_pos        99999 non-null  int64 \n",
            " 1   site_id           99999 non-null  object\n",
            " 2   site_domain       99999 non-null  object\n",
            " 3   site_category     99999 non-null  object\n",
            " 4   app_id            99999 non-null  object\n",
            " 5   app_domain        99999 non-null  object\n",
            " 6   app_category      99999 non-null  object\n",
            " 7   device_model      99999 non-null  object\n",
            " 8   device_type       99999 non-null  int64 \n",
            " 9   device_conn_type  99999 non-null  int64 \n",
            " 10  dayofweek         99999 non-null  int64 \n",
            " 11  day               99999 non-null  int64 \n",
            " 12  hour              99999 non-null  int64 \n",
            " 13  y                 99999 non-null  int64 \n",
            "dtypes: int64(7), object(7)\n",
            "memory usage: 10.7+ MB\n"
          ]
        }
      ],
      "source": [
        "df.info()"
      ]
    },
    {
      "cell_type": "code",
      "execution_count": 9,
      "metadata": {
        "colab": {
          "base_uri": "https://localhost:8080/"
        },
        "id": "nJISRxqbkKKx",
        "outputId": "91fdbb2b-b4cf-4793-fd23-66d78019eedc"
      },
      "outputs": [
        {
          "output_type": "execute_result",
          "data": {
            "text/plain": [
              "banner_pos             7\n",
              "site_id             1485\n",
              "site_domain         1331\n",
              "site_category         19\n",
              "app_id              1354\n",
              "app_domain            96\n",
              "app_category          21\n",
              "device_model        3145\n",
              "device_type            4\n",
              "device_conn_type       4\n",
              "dayofweek              7\n",
              "day                   10\n",
              "hour                  24\n",
              "y                      2\n",
              "dtype: int64"
            ]
          },
          "metadata": {},
          "execution_count": 9
        }
      ],
      "source": [
        "df.nunique()"
      ]
    },
    {
      "cell_type": "code",
      "execution_count": 10,
      "metadata": {
        "colab": {
          "base_uri": "https://localhost:8080/",
          "height": 206
        },
        "id": "311c3JYzfhwI",
        "outputId": "2694cf3c-814c-4c24-8ed6-2ba0085b6332"
      },
      "outputs": [
        {
          "output_type": "execute_result",
          "data": {
            "text/plain": [
              "   banner_pos  site_id  site_domain  site_category  app_id  app_domain  \\\n",
              "0           1      784          461             17    1254          38   \n",
              "1           1     1287          673             17    1254          38   \n",
              "2           0     1293         1112              1    1254          38   \n",
              "3           0       80          182              5    1254          38   \n",
              "4           0      179         1272              1    1254          38   \n",
              "\n",
              "   app_category  device_model  device_type  device_conn_type  dayofweek  day  \\\n",
              "0             0          2288            1                 0          1   28   \n",
              "1             0           342            1                 0          2   22   \n",
              "2             0          1862            1                 0          3   23   \n",
              "3             0          2863            0                 0          2   22   \n",
              "4             0           682            1                 0          1   21   \n",
              "\n",
              "   hour  y  \n",
              "0    14  0  \n",
              "1    19  1  \n",
              "2    18  0  \n",
              "3    19  0  \n",
              "4     8  1  "
            ],
            "text/html": [
              "\n",
              "  <div id=\"df-51e57a9c-28dd-47da-aed3-834918fa928b\">\n",
              "    <div class=\"colab-df-container\">\n",
              "      <div>\n",
              "<style scoped>\n",
              "    .dataframe tbody tr th:only-of-type {\n",
              "        vertical-align: middle;\n",
              "    }\n",
              "\n",
              "    .dataframe tbody tr th {\n",
              "        vertical-align: top;\n",
              "    }\n",
              "\n",
              "    .dataframe thead th {\n",
              "        text-align: right;\n",
              "    }\n",
              "</style>\n",
              "<table border=\"1\" class=\"dataframe\">\n",
              "  <thead>\n",
              "    <tr style=\"text-align: right;\">\n",
              "      <th></th>\n",
              "      <th>banner_pos</th>\n",
              "      <th>site_id</th>\n",
              "      <th>site_domain</th>\n",
              "      <th>site_category</th>\n",
              "      <th>app_id</th>\n",
              "      <th>app_domain</th>\n",
              "      <th>app_category</th>\n",
              "      <th>device_model</th>\n",
              "      <th>device_type</th>\n",
              "      <th>device_conn_type</th>\n",
              "      <th>dayofweek</th>\n",
              "      <th>day</th>\n",
              "      <th>hour</th>\n",
              "      <th>y</th>\n",
              "    </tr>\n",
              "  </thead>\n",
              "  <tbody>\n",
              "    <tr>\n",
              "      <th>0</th>\n",
              "      <td>1</td>\n",
              "      <td>784</td>\n",
              "      <td>461</td>\n",
              "      <td>17</td>\n",
              "      <td>1254</td>\n",
              "      <td>38</td>\n",
              "      <td>0</td>\n",
              "      <td>2288</td>\n",
              "      <td>1</td>\n",
              "      <td>0</td>\n",
              "      <td>1</td>\n",
              "      <td>28</td>\n",
              "      <td>14</td>\n",
              "      <td>0</td>\n",
              "    </tr>\n",
              "    <tr>\n",
              "      <th>1</th>\n",
              "      <td>1</td>\n",
              "      <td>1287</td>\n",
              "      <td>673</td>\n",
              "      <td>17</td>\n",
              "      <td>1254</td>\n",
              "      <td>38</td>\n",
              "      <td>0</td>\n",
              "      <td>342</td>\n",
              "      <td>1</td>\n",
              "      <td>0</td>\n",
              "      <td>2</td>\n",
              "      <td>22</td>\n",
              "      <td>19</td>\n",
              "      <td>1</td>\n",
              "    </tr>\n",
              "    <tr>\n",
              "      <th>2</th>\n",
              "      <td>0</td>\n",
              "      <td>1293</td>\n",
              "      <td>1112</td>\n",
              "      <td>1</td>\n",
              "      <td>1254</td>\n",
              "      <td>38</td>\n",
              "      <td>0</td>\n",
              "      <td>1862</td>\n",
              "      <td>1</td>\n",
              "      <td>0</td>\n",
              "      <td>3</td>\n",
              "      <td>23</td>\n",
              "      <td>18</td>\n",
              "      <td>0</td>\n",
              "    </tr>\n",
              "    <tr>\n",
              "      <th>3</th>\n",
              "      <td>0</td>\n",
              "      <td>80</td>\n",
              "      <td>182</td>\n",
              "      <td>5</td>\n",
              "      <td>1254</td>\n",
              "      <td>38</td>\n",
              "      <td>0</td>\n",
              "      <td>2863</td>\n",
              "      <td>0</td>\n",
              "      <td>0</td>\n",
              "      <td>2</td>\n",
              "      <td>22</td>\n",
              "      <td>19</td>\n",
              "      <td>0</td>\n",
              "    </tr>\n",
              "    <tr>\n",
              "      <th>4</th>\n",
              "      <td>0</td>\n",
              "      <td>179</td>\n",
              "      <td>1272</td>\n",
              "      <td>1</td>\n",
              "      <td>1254</td>\n",
              "      <td>38</td>\n",
              "      <td>0</td>\n",
              "      <td>682</td>\n",
              "      <td>1</td>\n",
              "      <td>0</td>\n",
              "      <td>1</td>\n",
              "      <td>21</td>\n",
              "      <td>8</td>\n",
              "      <td>1</td>\n",
              "    </tr>\n",
              "  </tbody>\n",
              "</table>\n",
              "</div>\n",
              "      <button class=\"colab-df-convert\" onclick=\"convertToInteractive('df-51e57a9c-28dd-47da-aed3-834918fa928b')\"\n",
              "              title=\"Convert this dataframe to an interactive table.\"\n",
              "              style=\"display:none;\">\n",
              "        \n",
              "  <svg xmlns=\"http://www.w3.org/2000/svg\" height=\"24px\"viewBox=\"0 0 24 24\"\n",
              "       width=\"24px\">\n",
              "    <path d=\"M0 0h24v24H0V0z\" fill=\"none\"/>\n",
              "    <path d=\"M18.56 5.44l.94 2.06.94-2.06 2.06-.94-2.06-.94-.94-2.06-.94 2.06-2.06.94zm-11 1L8.5 8.5l.94-2.06 2.06-.94-2.06-.94L8.5 2.5l-.94 2.06-2.06.94zm10 10l.94 2.06.94-2.06 2.06-.94-2.06-.94-.94-2.06-.94 2.06-2.06.94z\"/><path d=\"M17.41 7.96l-1.37-1.37c-.4-.4-.92-.59-1.43-.59-.52 0-1.04.2-1.43.59L10.3 9.45l-7.72 7.72c-.78.78-.78 2.05 0 2.83L4 21.41c.39.39.9.59 1.41.59.51 0 1.02-.2 1.41-.59l7.78-7.78 2.81-2.81c.8-.78.8-2.07 0-2.86zM5.41 20L4 18.59l7.72-7.72 1.47 1.35L5.41 20z\"/>\n",
              "  </svg>\n",
              "      </button>\n",
              "      \n",
              "  <style>\n",
              "    .colab-df-container {\n",
              "      display:flex;\n",
              "      flex-wrap:wrap;\n",
              "      gap: 12px;\n",
              "    }\n",
              "\n",
              "    .colab-df-convert {\n",
              "      background-color: #E8F0FE;\n",
              "      border: none;\n",
              "      border-radius: 50%;\n",
              "      cursor: pointer;\n",
              "      display: none;\n",
              "      fill: #1967D2;\n",
              "      height: 32px;\n",
              "      padding: 0 0 0 0;\n",
              "      width: 32px;\n",
              "    }\n",
              "\n",
              "    .colab-df-convert:hover {\n",
              "      background-color: #E2EBFA;\n",
              "      box-shadow: 0px 1px 2px rgba(60, 64, 67, 0.3), 0px 1px 3px 1px rgba(60, 64, 67, 0.15);\n",
              "      fill: #174EA6;\n",
              "    }\n",
              "\n",
              "    [theme=dark] .colab-df-convert {\n",
              "      background-color: #3B4455;\n",
              "      fill: #D2E3FC;\n",
              "    }\n",
              "\n",
              "    [theme=dark] .colab-df-convert:hover {\n",
              "      background-color: #434B5C;\n",
              "      box-shadow: 0px 1px 3px 1px rgba(0, 0, 0, 0.15);\n",
              "      filter: drop-shadow(0px 1px 2px rgba(0, 0, 0, 0.3));\n",
              "      fill: #FFFFFF;\n",
              "    }\n",
              "  </style>\n",
              "\n",
              "      <script>\n",
              "        const buttonEl =\n",
              "          document.querySelector('#df-51e57a9c-28dd-47da-aed3-834918fa928b button.colab-df-convert');\n",
              "        buttonEl.style.display =\n",
              "          google.colab.kernel.accessAllowed ? 'block' : 'none';\n",
              "\n",
              "        async function convertToInteractive(key) {\n",
              "          const element = document.querySelector('#df-51e57a9c-28dd-47da-aed3-834918fa928b');\n",
              "          const dataTable =\n",
              "            await google.colab.kernel.invokeFunction('convertToInteractive',\n",
              "                                                     [key], {});\n",
              "          if (!dataTable) return;\n",
              "\n",
              "          const docLinkHtml = 'Like what you see? Visit the ' +\n",
              "            '<a target=\"_blank\" href=https://colab.research.google.com/notebooks/data_table.ipynb>data table notebook</a>'\n",
              "            + ' to learn more about interactive tables.';\n",
              "          element.innerHTML = '';\n",
              "          dataTable['output_type'] = 'display_data';\n",
              "          await google.colab.output.renderOutput(dataTable, element);\n",
              "          const docLink = document.createElement('div');\n",
              "          docLink.innerHTML = docLinkHtml;\n",
              "          element.appendChild(docLink);\n",
              "        }\n",
              "      </script>\n",
              "    </div>\n",
              "  </div>\n",
              "  "
            ]
          },
          "metadata": {},
          "execution_count": 10
        }
      ],
      "source": [
        "#label encoding to the columns with high nunique values.\n",
        "  #Importing label encoder\n",
        "from sklearn import preprocessing\n",
        "  # instantiate labelencoder object\n",
        "label_encoder = preprocessing.LabelEncoder()\n",
        "  \n",
        "col = ['site_id', 'site_domain', 'site_category', 'app_domain', 'app_id', 'device_model', 'app_category']\n",
        "df[col]= df[col].apply(label_encoder.fit_transform)\n",
        "df.head()\n"
      ]
    },
    {
      "cell_type": "code",
      "execution_count": 11,
      "metadata": {
        "colab": {
          "base_uri": "https://localhost:8080/",
          "height": 300
        },
        "id": "8NAc6lgfiKtk",
        "outputId": "b83367ac-516e-4074-8c5a-515f238008a8"
      },
      "outputs": [
        {
          "output_type": "execute_result",
          "data": {
            "text/plain": [
              "   site_id  site_domain  site_category  app_id  app_domain  app_category  \\\n",
              "0      784          461             17    1254          38             0   \n",
              "1     1287          673             17    1254          38             0   \n",
              "2     1293         1112              1    1254          38             0   \n",
              "3       80          182              5    1254          38             0   \n",
              "4      179         1272              1    1254          38             0   \n",
              "\n",
              "   device_model  dayofweek  day  hour  ...  banner_pos_3  banner_pos_4  \\\n",
              "0          2288          1   28    14  ...             0             0   \n",
              "1           342          2   22    19  ...             0             0   \n",
              "2          1862          3   23    18  ...             0             0   \n",
              "3          2863          2   22    19  ...             0             0   \n",
              "4           682          1   21     8  ...             0             0   \n",
              "\n",
              "   banner_pos_5  banner_pos_7  device_type_1  device_type_4  device_type_5  \\\n",
              "0             0             0              1              0              0   \n",
              "1             0             0              1              0              0   \n",
              "2             0             0              1              0              0   \n",
              "3             0             0              0              0              0   \n",
              "4             0             0              1              0              0   \n",
              "\n",
              "   device_conn_type_2  device_conn_type_3  device_conn_type_5  \n",
              "0                   0                   0                   0  \n",
              "1                   0                   0                   0  \n",
              "2                   0                   0                   0  \n",
              "3                   0                   0                   0  \n",
              "4                   0                   0                   0  \n",
              "\n",
              "[5 rows x 23 columns]"
            ],
            "text/html": [
              "\n",
              "  <div id=\"df-750510ef-fd8d-4676-b3a1-6cde0ebe1082\">\n",
              "    <div class=\"colab-df-container\">\n",
              "      <div>\n",
              "<style scoped>\n",
              "    .dataframe tbody tr th:only-of-type {\n",
              "        vertical-align: middle;\n",
              "    }\n",
              "\n",
              "    .dataframe tbody tr th {\n",
              "        vertical-align: top;\n",
              "    }\n",
              "\n",
              "    .dataframe thead th {\n",
              "        text-align: right;\n",
              "    }\n",
              "</style>\n",
              "<table border=\"1\" class=\"dataframe\">\n",
              "  <thead>\n",
              "    <tr style=\"text-align: right;\">\n",
              "      <th></th>\n",
              "      <th>site_id</th>\n",
              "      <th>site_domain</th>\n",
              "      <th>site_category</th>\n",
              "      <th>app_id</th>\n",
              "      <th>app_domain</th>\n",
              "      <th>app_category</th>\n",
              "      <th>device_model</th>\n",
              "      <th>dayofweek</th>\n",
              "      <th>day</th>\n",
              "      <th>hour</th>\n",
              "      <th>...</th>\n",
              "      <th>banner_pos_3</th>\n",
              "      <th>banner_pos_4</th>\n",
              "      <th>banner_pos_5</th>\n",
              "      <th>banner_pos_7</th>\n",
              "      <th>device_type_1</th>\n",
              "      <th>device_type_4</th>\n",
              "      <th>device_type_5</th>\n",
              "      <th>device_conn_type_2</th>\n",
              "      <th>device_conn_type_3</th>\n",
              "      <th>device_conn_type_5</th>\n",
              "    </tr>\n",
              "  </thead>\n",
              "  <tbody>\n",
              "    <tr>\n",
              "      <th>0</th>\n",
              "      <td>784</td>\n",
              "      <td>461</td>\n",
              "      <td>17</td>\n",
              "      <td>1254</td>\n",
              "      <td>38</td>\n",
              "      <td>0</td>\n",
              "      <td>2288</td>\n",
              "      <td>1</td>\n",
              "      <td>28</td>\n",
              "      <td>14</td>\n",
              "      <td>...</td>\n",
              "      <td>0</td>\n",
              "      <td>0</td>\n",
              "      <td>0</td>\n",
              "      <td>0</td>\n",
              "      <td>1</td>\n",
              "      <td>0</td>\n",
              "      <td>0</td>\n",
              "      <td>0</td>\n",
              "      <td>0</td>\n",
              "      <td>0</td>\n",
              "    </tr>\n",
              "    <tr>\n",
              "      <th>1</th>\n",
              "      <td>1287</td>\n",
              "      <td>673</td>\n",
              "      <td>17</td>\n",
              "      <td>1254</td>\n",
              "      <td>38</td>\n",
              "      <td>0</td>\n",
              "      <td>342</td>\n",
              "      <td>2</td>\n",
              "      <td>22</td>\n",
              "      <td>19</td>\n",
              "      <td>...</td>\n",
              "      <td>0</td>\n",
              "      <td>0</td>\n",
              "      <td>0</td>\n",
              "      <td>0</td>\n",
              "      <td>1</td>\n",
              "      <td>0</td>\n",
              "      <td>0</td>\n",
              "      <td>0</td>\n",
              "      <td>0</td>\n",
              "      <td>0</td>\n",
              "    </tr>\n",
              "    <tr>\n",
              "      <th>2</th>\n",
              "      <td>1293</td>\n",
              "      <td>1112</td>\n",
              "      <td>1</td>\n",
              "      <td>1254</td>\n",
              "      <td>38</td>\n",
              "      <td>0</td>\n",
              "      <td>1862</td>\n",
              "      <td>3</td>\n",
              "      <td>23</td>\n",
              "      <td>18</td>\n",
              "      <td>...</td>\n",
              "      <td>0</td>\n",
              "      <td>0</td>\n",
              "      <td>0</td>\n",
              "      <td>0</td>\n",
              "      <td>1</td>\n",
              "      <td>0</td>\n",
              "      <td>0</td>\n",
              "      <td>0</td>\n",
              "      <td>0</td>\n",
              "      <td>0</td>\n",
              "    </tr>\n",
              "    <tr>\n",
              "      <th>3</th>\n",
              "      <td>80</td>\n",
              "      <td>182</td>\n",
              "      <td>5</td>\n",
              "      <td>1254</td>\n",
              "      <td>38</td>\n",
              "      <td>0</td>\n",
              "      <td>2863</td>\n",
              "      <td>2</td>\n",
              "      <td>22</td>\n",
              "      <td>19</td>\n",
              "      <td>...</td>\n",
              "      <td>0</td>\n",
              "      <td>0</td>\n",
              "      <td>0</td>\n",
              "      <td>0</td>\n",
              "      <td>0</td>\n",
              "      <td>0</td>\n",
              "      <td>0</td>\n",
              "      <td>0</td>\n",
              "      <td>0</td>\n",
              "      <td>0</td>\n",
              "    </tr>\n",
              "    <tr>\n",
              "      <th>4</th>\n",
              "      <td>179</td>\n",
              "      <td>1272</td>\n",
              "      <td>1</td>\n",
              "      <td>1254</td>\n",
              "      <td>38</td>\n",
              "      <td>0</td>\n",
              "      <td>682</td>\n",
              "      <td>1</td>\n",
              "      <td>21</td>\n",
              "      <td>8</td>\n",
              "      <td>...</td>\n",
              "      <td>0</td>\n",
              "      <td>0</td>\n",
              "      <td>0</td>\n",
              "      <td>0</td>\n",
              "      <td>1</td>\n",
              "      <td>0</td>\n",
              "      <td>0</td>\n",
              "      <td>0</td>\n",
              "      <td>0</td>\n",
              "      <td>0</td>\n",
              "    </tr>\n",
              "  </tbody>\n",
              "</table>\n",
              "<p>5 rows × 23 columns</p>\n",
              "</div>\n",
              "      <button class=\"colab-df-convert\" onclick=\"convertToInteractive('df-750510ef-fd8d-4676-b3a1-6cde0ebe1082')\"\n",
              "              title=\"Convert this dataframe to an interactive table.\"\n",
              "              style=\"display:none;\">\n",
              "        \n",
              "  <svg xmlns=\"http://www.w3.org/2000/svg\" height=\"24px\"viewBox=\"0 0 24 24\"\n",
              "       width=\"24px\">\n",
              "    <path d=\"M0 0h24v24H0V0z\" fill=\"none\"/>\n",
              "    <path d=\"M18.56 5.44l.94 2.06.94-2.06 2.06-.94-2.06-.94-.94-2.06-.94 2.06-2.06.94zm-11 1L8.5 8.5l.94-2.06 2.06-.94-2.06-.94L8.5 2.5l-.94 2.06-2.06.94zm10 10l.94 2.06.94-2.06 2.06-.94-2.06-.94-.94-2.06-.94 2.06-2.06.94z\"/><path d=\"M17.41 7.96l-1.37-1.37c-.4-.4-.92-.59-1.43-.59-.52 0-1.04.2-1.43.59L10.3 9.45l-7.72 7.72c-.78.78-.78 2.05 0 2.83L4 21.41c.39.39.9.59 1.41.59.51 0 1.02-.2 1.41-.59l7.78-7.78 2.81-2.81c.8-.78.8-2.07 0-2.86zM5.41 20L4 18.59l7.72-7.72 1.47 1.35L5.41 20z\"/>\n",
              "  </svg>\n",
              "      </button>\n",
              "      \n",
              "  <style>\n",
              "    .colab-df-container {\n",
              "      display:flex;\n",
              "      flex-wrap:wrap;\n",
              "      gap: 12px;\n",
              "    }\n",
              "\n",
              "    .colab-df-convert {\n",
              "      background-color: #E8F0FE;\n",
              "      border: none;\n",
              "      border-radius: 50%;\n",
              "      cursor: pointer;\n",
              "      display: none;\n",
              "      fill: #1967D2;\n",
              "      height: 32px;\n",
              "      padding: 0 0 0 0;\n",
              "      width: 32px;\n",
              "    }\n",
              "\n",
              "    .colab-df-convert:hover {\n",
              "      background-color: #E2EBFA;\n",
              "      box-shadow: 0px 1px 2px rgba(60, 64, 67, 0.3), 0px 1px 3px 1px rgba(60, 64, 67, 0.15);\n",
              "      fill: #174EA6;\n",
              "    }\n",
              "\n",
              "    [theme=dark] .colab-df-convert {\n",
              "      background-color: #3B4455;\n",
              "      fill: #D2E3FC;\n",
              "    }\n",
              "\n",
              "    [theme=dark] .colab-df-convert:hover {\n",
              "      background-color: #434B5C;\n",
              "      box-shadow: 0px 1px 3px 1px rgba(0, 0, 0, 0.15);\n",
              "      filter: drop-shadow(0px 1px 2px rgba(0, 0, 0, 0.3));\n",
              "      fill: #FFFFFF;\n",
              "    }\n",
              "  </style>\n",
              "\n",
              "      <script>\n",
              "        const buttonEl =\n",
              "          document.querySelector('#df-750510ef-fd8d-4676-b3a1-6cde0ebe1082 button.colab-df-convert');\n",
              "        buttonEl.style.display =\n",
              "          google.colab.kernel.accessAllowed ? 'block' : 'none';\n",
              "\n",
              "        async function convertToInteractive(key) {\n",
              "          const element = document.querySelector('#df-750510ef-fd8d-4676-b3a1-6cde0ebe1082');\n",
              "          const dataTable =\n",
              "            await google.colab.kernel.invokeFunction('convertToInteractive',\n",
              "                                                     [key], {});\n",
              "          if (!dataTable) return;\n",
              "\n",
              "          const docLinkHtml = 'Like what you see? Visit the ' +\n",
              "            '<a target=\"_blank\" href=https://colab.research.google.com/notebooks/data_table.ipynb>data table notebook</a>'\n",
              "            + ' to learn more about interactive tables.';\n",
              "          element.innerHTML = '';\n",
              "          dataTable['output_type'] = 'display_data';\n",
              "          await google.colab.output.renderOutput(dataTable, element);\n",
              "          const docLink = document.createElement('div');\n",
              "          docLink.innerHTML = docLinkHtml;\n",
              "          element.appendChild(docLink);\n",
              "        }\n",
              "      </script>\n",
              "    </div>\n",
              "  </div>\n",
              "  "
            ]
          },
          "metadata": {},
          "execution_count": 11
        }
      ],
      "source": [
        "#One-Hot Encoding to the columns with low nunique values.\n",
        "    #Importing OneHotEncoder\n",
        "from sklearn.preprocessing import OneHotEncoder\n",
        "     # instantiate OneHotEncoder object\n",
        "ohe = OneHotEncoder()\n",
        "\n",
        "col_1 = ['banner_pos' , 'device_type' , 'device_conn_type']\n",
        "df = pd.get_dummies(df, columns = col_1, drop_first=True)\n",
        "df.head()"
      ]
    },
    {
      "cell_type": "markdown",
      "metadata": {
        "id": "7elhNNrSfbtF"
      },
      "source": [
        " **3. Train-Test Split**"
      ]
    },
    {
      "cell_type": "code",
      "execution_count": 12,
      "metadata": {
        "id": "xg3rFE3sYAji"
      },
      "outputs": [],
      "source": [
        "X = df.drop(['y'], axis=1)\n",
        "y = df['y']"
      ]
    },
    {
      "cell_type": "code",
      "execution_count": 13,
      "metadata": {
        "id": "s2nJ7AwcBJzv"
      },
      "outputs": [],
      "source": [
        "from sklearn.model_selection import train_test_split\n",
        "X_train, X_test, y_train, y_test = train_test_split(X, y, train_size = 0.8, test_size = 0.2, random_state = 1000)"
      ]
    },
    {
      "cell_type": "markdown",
      "metadata": {
        "id": "OxTnOBZUCQGl"
      },
      "source": [
        "**4. Classification Methods.**"
      ]
    },
    {
      "cell_type": "markdown",
      "metadata": {
        "id": "AzLWipvRCwkn"
      },
      "source": [
        "4.1 Linear Regression Model"
      ]
    },
    {
      "cell_type": "code",
      "execution_count": 14,
      "metadata": {
        "colab": {
          "base_uri": "https://localhost:8080/"
        },
        "id": "LyOvhw8JC0-d",
        "outputId": "12d95aeb-028f-4301-d9e4-3fbb467ca397"
      },
      "outputs": [
        {
          "output_type": "execute_result",
          "data": {
            "text/plain": [
              "array([[ 7.42559736e-05, -6.21242154e-04, -3.04633298e-02,\n",
              "         3.88365980e-04, -6.58357085e-03, -1.00378580e-02,\n",
              "         1.50345034e-06,  1.94331841e-03, -4.06776524e-02,\n",
              "         1.83742373e-03,  1.67135761e-03, -1.41472601e-05,\n",
              "         6.60877680e-06, -3.50467089e-05, -1.58627587e-05,\n",
              "         2.48092396e-04, -2.44537723e-03, -1.19348889e-03,\n",
              "        -1.08758191e-04, -2.85004541e-03, -5.65687887e-03,\n",
              "        -1.61838799e-04]])"
            ]
          },
          "metadata": {},
          "execution_count": 14
        }
      ],
      "source": [
        "from sklearn.linear_model import LogisticRegression\n",
        "lr = LogisticRegression()\n",
        "lr.fit(X_train, y_train)\n",
        "lr.coef_\n"
      ]
    },
    {
      "cell_type": "code",
      "execution_count": 15,
      "metadata": {
        "colab": {
          "base_uri": "https://localhost:8080/"
        },
        "id": "Gi52P3gBMSGK",
        "outputId": "b0b681b2-b4f6-444d-a77f-da333a0cbdfb"
      },
      "outputs": [
        {
          "output_type": "stream",
          "name": "stdout",
          "text": [
            "0.8307228840360504\n"
          ]
        }
      ],
      "source": [
        "#To check the Accuracy (y_train)\n",
        "from sklearn import metrics\n",
        "y_train_pred = lr.predict(X_train)\n",
        "print(metrics.accuracy_score(y_train, y_train_pred) )"
      ]
    },
    {
      "cell_type": "code",
      "execution_count": 16,
      "metadata": {
        "colab": {
          "base_uri": "https://localhost:8080/"
        },
        "id": "TOYrGvCrM1T8",
        "outputId": "06b3898b-70bc-46ef-99bb-a563f277d47f"
      },
      "outputs": [
        {
          "output_type": "stream",
          "name": "stdout",
          "text": [
            "0.8281\n"
          ]
        }
      ],
      "source": [
        "#To check the Accuracy (y_test)\n",
        "y_new = lr.predict(X_test)\n",
        "print(metrics.accuracy_score(y_test, y_new) )"
      ]
    },
    {
      "cell_type": "code",
      "execution_count": 17,
      "metadata": {
        "colab": {
          "base_uri": "https://localhost:8080/",
          "height": 331
        },
        "id": "KZvyLlSdNaS5",
        "outputId": "ae24ac70-8879-4215-b52f-254097ee9279"
      },
      "outputs": [
        {
          "output_type": "stream",
          "name": "stdout",
          "text": [
            "[[16562     0]\n",
            " [ 3438     0]]\n"
          ]
        },
        {
          "output_type": "execute_result",
          "data": {
            "text/plain": [
              "<sklearn.metrics._plot.confusion_matrix.ConfusionMatrixDisplay at 0x7f104a235460>"
            ]
          },
          "metadata": {},
          "execution_count": 17
        },
        {
          "output_type": "display_data",
          "data": {
            "text/plain": [
              "<Figure size 432x288 with 2 Axes>"
            ],
            "image/png": "[encoded data removed]"
          },
          "metadata": {
            "needs_background": "light"
          }
        }
      ],
      "source": [
        "#Confusion Matrix \n",
        "cnf_mat_lr = metrics.confusion_matrix(y_test, y_new)\n",
        "print(cnf_mat_lr)\n",
        "metrics.plot_confusion_matrix(lr, X_test, y_test)"
      ]
    },
    {
      "cell_type": "code",
      "execution_count": 18,
      "metadata": {
        "colab": {
          "base_uri": "https://localhost:8080/",
          "height": 279
        },
        "id": "uG80EXyROiuB",
        "outputId": "c4a7d9e0-d399-4f40-b522-54dcbeebe3b0"
      },
      "outputs": [
        {
          "output_type": "display_data",
          "data": {
            "text/plain": [
              "<Figure size 432x288 with 1 Axes>"
            ],
            "image/png": "[encoded data removed]"
          },
          "metadata": {
            "needs_background": "light"
          }
        }
      ],
      "source": [
        "#Arear under ROC Curve\n",
        "metrics.plot_roc_curve(lr, X_test, y_test)\n",
        "plt.show()"
      ]
    },
    {
      "cell_type": "code",
      "execution_count": 19,
      "metadata": {
        "colab": {
          "base_uri": "https://localhost:8080/"
        },
        "id": "PoKXGaPZP7Mi",
        "outputId": "b996b1c0-fd47-4697-d8dc-1a2a69cdbc79"
      },
      "outputs": [
        {
          "output_type": "stream",
          "name": "stdout",
          "text": [
            "lr Precision: 0.0\n",
            "lr Recall: 0.0\n"
          ]
        }
      ],
      "source": [
        "#To check the Precision and Recall\n",
        "from sklearn.metrics import precision_score, recall_score\n",
        "print('lr Precision:', precision_score(y_test, y_new))\n",
        "print('lr Recall:',  recall_score(y_test, y_new))"
      ]
    },
    {
      "cell_type": "markdown",
      "metadata": {
        "id": "DHvyAAllYh3E"
      },
      "source": [
        "4.2 Decision Tree Model"
      ]
    },
    {
      "cell_type": "code",
      "execution_count": 20,
      "metadata": {
        "colab": {
          "base_uri": "https://localhost:8080/"
        },
        "id": "4QiJWqT7Yj2U",
        "outputId": "340c16ef-ab9d-44aa-bf2d-edbd59e59d60"
      },
      "outputs": [
        {
          "output_type": "execute_result",
          "data": {
            "text/plain": [
              "DecisionTreeClassifier()"
            ]
          },
          "metadata": {},
          "execution_count": 20
        }
      ],
      "source": [
        "from sklearn.tree import DecisionTreeClassifier\n",
        "dt = DecisionTreeClassifier()\n",
        "dt.fit(X_train , y_train)"
      ]
    },
    {
      "cell_type": "code",
      "execution_count": 21,
      "metadata": {
        "colab": {
          "base_uri": "https://localhost:8080/"
        },
        "id": "EkdkA-grala7",
        "outputId": "06bc5871-9c62-4fa7-c16b-f9ed81ffe24d"
      },
      "outputs": [
        {
          "output_type": "execute_result",
          "data": {
            "text/plain": [
              "0.75255"
            ]
          },
          "metadata": {},
          "execution_count": 21
        }
      ],
      "source": [
        "#To check the Accuracy (X_test)\n",
        "y_new = dt.predict(X_test)\n",
        "from sklearn.metrics import classification_report\n",
        "metrics.accuracy_score(y_test, y_new) "
      ]
    },
    {
      "cell_type": "code",
      "execution_count": 22,
      "metadata": {
        "colab": {
          "base_uri": "https://localhost:8080/",
          "height": 333
        },
        "id": "pYRBjKA-aU0D",
        "outputId": "96943387-a24b-44a5-8102-de01d2d9dc49"
      },
      "outputs": [
        {
          "output_type": "stream",
          "name": "stdout",
          "text": [
            "[[14144  2418]\n",
            " [ 2531   907]]\n"
          ]
        },
        {
          "output_type": "execute_result",
          "data": {
            "text/plain": [
              "<sklearn.metrics._plot.confusion_matrix.ConfusionMatrixDisplay at 0x7f104a14be50>"
            ]
          },
          "metadata": {},
          "execution_count": 22
        },
        {
          "output_type": "display_data",
          "data": {
            "text/plain": [
              "<Figure size 432x288 with 2 Axes>"
            ],
            "image/png": "[encoded data removed]"
          },
          "metadata": {
            "needs_background": "light"
          }
        }
      ],
      "source": [
        "#Confusion Matrix \n",
        "cn_mat = metrics.confusion_matrix(y_test, y_new)\n",
        "print(cn_mat)\n",
        "metrics.plot_confusion_matrix(dt, X_test, y_test)"
      ]
    },
    {
      "cell_type": "code",
      "execution_count": 23,
      "metadata": {
        "colab": {
          "base_uri": "https://localhost:8080/",
          "height": 279
        },
        "id": "VJ92m37gpSOf",
        "outputId": "5a4489dd-ba44-4dc6-e1e8-25c38a57ebac"
      },
      "outputs": [
        {
          "output_type": "display_data",
          "data": {
            "text/plain": [
              "<Figure size 432x288 with 1 Axes>"
            ],
            "image/png": "[encoded data removed]"
          },
          "metadata": {
            "needs_background": "light"
          }
        }
      ],
      "source": [
        "#Arear under ROC Curve\n",
        "metrics.plot_roc_curve(dt, X_test, y_test)\n",
        "plt.show()"
      ]
    },
    {
      "cell_type": "code",
      "execution_count": 24,
      "metadata": {
        "colab": {
          "base_uri": "https://localhost:8080/"
        },
        "id": "IHEqz_icpgZ2",
        "outputId": "92db7fd9-6a17-47a8-9a19-21bee285e5ed"
      },
      "outputs": [
        {
          "output_type": "stream",
          "name": "stdout",
          "text": [
            "Precision: 0.27278195488721807\n",
            "Recall: 0.2638161721931355\n"
          ]
        }
      ],
      "source": [
        "#To check the Precision and Recall\n",
        "from sklearn.metrics import precision_score, recall_score\n",
        "print('Precision:', precision_score(y_test, y_new))\n",
        "print('Recall:',  recall_score(y_test, y_new))"
      ]
    },
    {
      "cell_type": "markdown",
      "metadata": {
        "id": "mGnMnAePpuxY"
      },
      "source": [
        "4.3 Random Forest Model."
      ]
    },
    {
      "cell_type": "code",
      "execution_count": 25,
      "metadata": {
        "colab": {
          "base_uri": "https://localhost:8080/"
        },
        "id": "X2GDMyRFprbk",
        "outputId": "949a27aa-7fa5-427a-e2f9-8e12d85f62f2"
      },
      "outputs": [
        {
          "output_type": "execute_result",
          "data": {
            "text/plain": [
              "RandomForestClassifier()"
            ]
          },
          "metadata": {},
          "execution_count": 25
        }
      ],
      "source": [
        "#importing randomforest \n",
        "from sklearn.ensemble import RandomForestClassifier\n",
        "rf = RandomForestClassifier()\n",
        "rf.fit(X_train , y_train)"
      ]
    },
    {
      "cell_type": "code",
      "execution_count": 26,
      "metadata": {
        "colab": {
          "base_uri": "https://localhost:8080/"
        },
        "id": "Y94t6a87qKjI",
        "outputId": "8213fa6a-76d1-486a-f511-9f06ae080da8"
      },
      "outputs": [
        {
          "output_type": "execute_result",
          "data": {
            "text/plain": [
              "0.79925"
            ]
          },
          "metadata": {},
          "execution_count": 26
        }
      ],
      "source": [
        "#To check the Accuracy (X_test)\n",
        "y_new = rf.predict(X_test)\n",
        "from sklearn.metrics import classification_report\n",
        "metrics.accuracy_score(y_test, y_new) "
      ]
    },
    {
      "cell_type": "code",
      "execution_count": 27,
      "metadata": {
        "colab": {
          "base_uri": "https://localhost:8080/",
          "height": 331
        },
        "id": "zBCiFJpNqNrN",
        "outputId": "7a66d46d-cdb3-4807-e30c-0f050f7f7d0d"
      },
      "outputs": [
        {
          "output_type": "stream",
          "name": "stdout",
          "text": [
            "[[15381  1181]\n",
            " [ 2834   604]]\n"
          ]
        },
        {
          "output_type": "execute_result",
          "data": {
            "text/plain": [
              "<sklearn.metrics._plot.confusion_matrix.ConfusionMatrixDisplay at 0x7f1046049b20>"
            ]
          },
          "metadata": {},
          "execution_count": 27
        },
        {
          "output_type": "display_data",
          "data": {
            "text/plain": [
              "<Figure size 432x288 with 2 Axes>"
            ],
            "image/png": "[encoded data removed]"
          },
          "metadata": {
            "needs_background": "light"
          }
        }
      ],
      "source": [
        "#Confusion Matrix \n",
        "cnf_mat = metrics.confusion_matrix(y_test, y_new)\n",
        "print(cnf_mat)\n",
        "metrics.plot_confusion_matrix(rf, X_test, y_test)"
      ]
    },
    {
      "cell_type": "code",
      "execution_count": 28,
      "metadata": {
        "colab": {
          "base_uri": "https://localhost:8080/",
          "height": 279
        },
        "id": "i7bUxslgqbWE",
        "outputId": "a2f7f7e2-aaa3-4076-f0b7-0094398df673"
      },
      "outputs": [
        {
          "output_type": "display_data",
          "data": {
            "text/plain": [
              "<Figure size 432x288 with 1 Axes>"
            ],
            "image/png": "[encoded data removed]"
          },
          "metadata": {
            "needs_background": "light"
          }
        }
      ],
      "source": [
        "#Arear under ROC Curve\n",
        "metrics.plot_roc_curve(rf, X_test, y_test)\n",
        "plt.show()"
      ]
    },
    {
      "cell_type": "code",
      "execution_count": 29,
      "metadata": {
        "colab": {
          "base_uri": "https://localhost:8080/"
        },
        "id": "JpEq1BhCqgrs",
        "outputId": "7f79f372-522c-4dc4-b504-904446e9b95f"
      },
      "outputs": [
        {
          "output_type": "stream",
          "name": "stdout",
          "text": [
            "Precision: 0.33837535014005604\n",
            "Recall: 0.17568353694008143\n"
          ]
        }
      ],
      "source": [
        "#To check the Precision and Recall\n",
        "from sklearn.metrics import precision_score, recall_score\n",
        "print('Precision:', precision_score(y_test, y_new))\n",
        "print('Recall:',  recall_score(y_test, y_new))"
      ]
    },
    {
      "cell_type": "markdown",
      "metadata": {
        "id": "TL4ZfrB3qx1a"
      },
      "source": [
        "**5. K-Fold Cross-Validation**"
      ]
    },
    {
      "cell_type": "code",
      "execution_count": 30,
      "metadata": {
        "colab": {
          "base_uri": "https://localhost:8080/"
        },
        "id": "uN1Z3pznO-s5",
        "outputId": "89205d7b-04f0-47f9-e4bc-9c8a87d932f1"
      },
      "outputs": [
        {
          "output_type": "stream",
          "name": "stdout",
          "text": [
            "Cross Validation Scores:  [0.83075    0.83075    0.8306875  0.8306875  0.83073942]\n",
            "Average CV Score:  0.8307228842427652\n"
          ]
        }
      ],
      "source": [
        "#Cross-Validation for Logistic Regression model.\n",
        "from sklearn.model_selection import KFold, cross_val_score\n",
        "\n",
        "scores_lr = cross_val_score(lr, X_train, y_train, cv = 5, n_jobs=-1)\n",
        "print(\"Cross Validation Scores: \", scores_lr)\n",
        "print(\"Average CV Score: \", scores_lr.mean())"
      ]
    },
    {
      "cell_type": "code",
      "execution_count": 31,
      "metadata": {
        "colab": {
          "base_uri": "https://localhost:8080/",
          "height": 81
        },
        "id": "VN5e3bqRnJYw",
        "outputId": "49824bee-9d0f-4d90-a9f6-aa4093a20d64"
      },
      "outputs": [
        {
          "output_type": "execute_result",
          "data": {
            "text/plain": [
              "      Model Precision Recall  CrossVal_Mean  CrossVal1(r2)  CrossVal2(r2)  \\\n",
              "0  Baseline         0      0       0.830723        0.83075        0.83075   \n",
              "\n",
              "   CrossVal3(r2)  CrossVal4(r2)  CrossVal5(r2)  \n",
              "0       0.830688       0.830688       0.830739  "
            ],
            "text/html": [
              "\n",
              "  <div id=\"df-97a454ee-2c22-4f2f-ad4e-48c519bad6c6\">\n",
              "    <div class=\"colab-df-container\">\n",
              "      <div>\n",
              "<style scoped>\n",
              "    .dataframe tbody tr th:only-of-type {\n",
              "        vertical-align: middle;\n",
              "    }\n",
              "\n",
              "    .dataframe tbody tr th {\n",
              "        vertical-align: top;\n",
              "    }\n",
              "\n",
              "    .dataframe thead th {\n",
              "        text-align: right;\n",
              "    }\n",
              "</style>\n",
              "<table border=\"1\" class=\"dataframe\">\n",
              "  <thead>\n",
              "    <tr style=\"text-align: right;\">\n",
              "      <th></th>\n",
              "      <th>Model</th>\n",
              "      <th>Precision</th>\n",
              "      <th>Recall</th>\n",
              "      <th>CrossVal_Mean</th>\n",
              "      <th>CrossVal1(r2)</th>\n",
              "      <th>CrossVal2(r2)</th>\n",
              "      <th>CrossVal3(r2)</th>\n",
              "      <th>CrossVal4(r2)</th>\n",
              "      <th>CrossVal5(r2)</th>\n",
              "    </tr>\n",
              "  </thead>\n",
              "  <tbody>\n",
              "    <tr>\n",
              "      <th>0</th>\n",
              "      <td>Baseline</td>\n",
              "      <td>0</td>\n",
              "      <td>0</td>\n",
              "      <td>0.830723</td>\n",
              "      <td>0.83075</td>\n",
              "      <td>0.83075</td>\n",
              "      <td>0.830688</td>\n",
              "      <td>0.830688</td>\n",
              "      <td>0.830739</td>\n",
              "    </tr>\n",
              "  </tbody>\n",
              "</table>\n",
              "</div>\n",
              "      <button class=\"colab-df-convert\" onclick=\"convertToInteractive('df-97a454ee-2c22-4f2f-ad4e-48c519bad6c6')\"\n",
              "              title=\"Convert this dataframe to an interactive table.\"\n",
              "              style=\"display:none;\">\n",
              "        \n",
              "  <svg xmlns=\"http://www.w3.org/2000/svg\" height=\"24px\"viewBox=\"0 0 24 24\"\n",
              "       width=\"24px\">\n",
              "    <path d=\"M0 0h24v24H0V0z\" fill=\"none\"/>\n",
              "    <path d=\"M18.56 5.44l.94 2.06.94-2.06 2.06-.94-2.06-.94-.94-2.06-.94 2.06-2.06.94zm-11 1L8.5 8.5l.94-2.06 2.06-.94-2.06-.94L8.5 2.5l-.94 2.06-2.06.94zm10 10l.94 2.06.94-2.06 2.06-.94-2.06-.94-.94-2.06-.94 2.06-2.06.94z\"/><path d=\"M17.41 7.96l-1.37-1.37c-.4-.4-.92-.59-1.43-.59-.52 0-1.04.2-1.43.59L10.3 9.45l-7.72 7.72c-.78.78-.78 2.05 0 2.83L4 21.41c.39.39.9.59 1.41.59.51 0 1.02-.2 1.41-.59l7.78-7.78 2.81-2.81c.8-.78.8-2.07 0-2.86zM5.41 20L4 18.59l7.72-7.72 1.47 1.35L5.41 20z\"/>\n",
              "  </svg>\n",
              "      </button>\n",
              "      \n",
              "  <style>\n",
              "    .colab-df-container {\n",
              "      display:flex;\n",
              "      flex-wrap:wrap;\n",
              "      gap: 12px;\n",
              "    }\n",
              "\n",
              "    .colab-df-convert {\n",
              "      background-color: #E8F0FE;\n",
              "      border: none;\n",
              "      border-radius: 50%;\n",
              "      cursor: pointer;\n",
              "      display: none;\n",
              "      fill: #1967D2;\n",
              "      height: 32px;\n",
              "      padding: 0 0 0 0;\n",
              "      width: 32px;\n",
              "    }\n",
              "\n",
              "    .colab-df-convert:hover {\n",
              "      background-color: #E2EBFA;\n",
              "      box-shadow: 0px 1px 2px rgba(60, 64, 67, 0.3), 0px 1px 3px 1px rgba(60, 64, 67, 0.15);\n",
              "      fill: #174EA6;\n",
              "    }\n",
              "\n",
              "    [theme=dark] .colab-df-convert {\n",
              "      background-color: #3B4455;\n",
              "      fill: #D2E3FC;\n",
              "    }\n",
              "\n",
              "    [theme=dark] .colab-df-convert:hover {\n",
              "      background-color: #434B5C;\n",
              "      box-shadow: 0px 1px 3px 1px rgba(0, 0, 0, 0.15);\n",
              "      filter: drop-shadow(0px 1px 2px rgba(0, 0, 0, 0.3));\n",
              "      fill: #FFFFFF;\n",
              "    }\n",
              "  </style>\n",
              "\n",
              "      <script>\n",
              "        const buttonEl =\n",
              "          document.querySelector('#df-97a454ee-2c22-4f2f-ad4e-48c519bad6c6 button.colab-df-convert');\n",
              "        buttonEl.style.display =\n",
              "          google.colab.kernel.accessAllowed ? 'block' : 'none';\n",
              "\n",
              "        async function convertToInteractive(key) {\n",
              "          const element = document.querySelector('#df-97a454ee-2c22-4f2f-ad4e-48c519bad6c6');\n",
              "          const dataTable =\n",
              "            await google.colab.kernel.invokeFunction('convertToInteractive',\n",
              "                                                     [key], {});\n",
              "          if (!dataTable) return;\n",
              "\n",
              "          const docLinkHtml = 'Like what you see? Visit the ' +\n",
              "            '<a target=\"_blank\" href=https://colab.research.google.com/notebooks/data_table.ipynb>data table notebook</a>'\n",
              "            + ' to learn more about interactive tables.';\n",
              "          element.innerHTML = '';\n",
              "          dataTable['output_type'] = 'display_data';\n",
              "          await google.colab.output.renderOutput(dataTable, element);\n",
              "          const docLink = document.createElement('div');\n",
              "          docLink.innerHTML = docLinkHtml;\n",
              "          element.appendChild(docLink);\n",
              "        }\n",
              "      </script>\n",
              "    </div>\n",
              "  </div>\n",
              "  "
            ]
          },
          "metadata": {},
          "execution_count": 31
        }
      ],
      "source": [
        "#Create a dataframe to store the results.\n",
        "entry = {'Model': [\"Baseline\"],\n",
        "         'Precision' : ['0'],\n",
        "         'Recall' : ['0'],\n",
        "         'CrossVal_Mean': [scores_lr.mean()],         \n",
        "         'CrossVal1(r2)': [scores_lr[0]],\n",
        "         'CrossVal2(r2)': [scores_lr[1]],\n",
        "         'CrossVal3(r2)': [scores_lr[2]],\n",
        "         'CrossVal4(r2)': [scores_lr[3]],\n",
        "         'CrossVal5(r2)': [scores_lr[4]],\n",
        "        }\n",
        "\n",
        "result = pd.DataFrame(entry)\n",
        "result"
      ]
    },
    {
      "cell_type": "code",
      "execution_count": 32,
      "metadata": {
        "colab": {
          "base_uri": "https://localhost:8080/"
        },
        "id": "qsBYe3CUiFi-",
        "outputId": "0c5411b9-390a-4ad9-a0f1-9ea2768712fd"
      },
      "outputs": [
        {
          "output_type": "stream",
          "name": "stdout",
          "text": [
            "Cross Validation Scores:  [0.756      0.7501875  0.753      0.751125   0.74435902]\n",
            "Average CV Score:  0.7509343044877805\n"
          ]
        }
      ],
      "source": [
        "#Cross-Validation for Decision Tree model.\n",
        "from sklearn.model_selection import KFold, cross_val_score\n",
        "\n",
        "scores_dt = cross_val_score(dt, X_train, y_train, cv = 5, n_jobs=-1)\n",
        "print(\"Cross Validation Scores: \", scores_dt)\n",
        "print(\"Average CV Score: \", scores_dt.mean())"
      ]
    },
    {
      "cell_type": "code",
      "execution_count": 33,
      "metadata": {
        "colab": {
          "base_uri": "https://localhost:8080/",
          "height": 112
        },
        "id": "fTDkotDokM90",
        "outputId": "d1ca627e-c096-4f88-d2b7-2b9f1c37ceca"
      },
      "outputs": [
        {
          "output_type": "execute_result",
          "data": {
            "text/plain": [
              "           Model Precision  Recall  CrossVal_Mean  CrossVal1(r2)  \\\n",
              "0       Baseline         0       0       0.830723        0.83075   \n",
              "0  Decision Tree    0.2693  0.2609       0.750934        0.75600   \n",
              "\n",
              "   CrossVal2(r2)  CrossVal3(r2)  CrossVal4(r2)  CrossVal5(r2)  \n",
              "0       0.830750       0.830688       0.830688       0.830739  \n",
              "0       0.750188       0.753000       0.751125       0.744359  "
            ],
            "text/html": [
              "\n",
              "  <div id=\"df-2cdd4219-7a04-4189-92ee-433c56294625\">\n",
              "    <div class=\"colab-df-container\">\n",
              "      <div>\n",
              "<style scoped>\n",
              "    .dataframe tbody tr th:only-of-type {\n",
              "        vertical-align: middle;\n",
              "    }\n",
              "\n",
              "    .dataframe tbody tr th {\n",
              "        vertical-align: top;\n",
              "    }\n",
              "\n",
              "    .dataframe thead th {\n",
              "        text-align: right;\n",
              "    }\n",
              "</style>\n",
              "<table border=\"1\" class=\"dataframe\">\n",
              "  <thead>\n",
              "    <tr style=\"text-align: right;\">\n",
              "      <th></th>\n",
              "      <th>Model</th>\n",
              "      <th>Precision</th>\n",
              "      <th>Recall</th>\n",
              "      <th>CrossVal_Mean</th>\n",
              "      <th>CrossVal1(r2)</th>\n",
              "      <th>CrossVal2(r2)</th>\n",
              "      <th>CrossVal3(r2)</th>\n",
              "      <th>CrossVal4(r2)</th>\n",
              "      <th>CrossVal5(r2)</th>\n",
              "    </tr>\n",
              "  </thead>\n",
              "  <tbody>\n",
              "    <tr>\n",
              "      <th>0</th>\n",
              "      <td>Baseline</td>\n",
              "      <td>0</td>\n",
              "      <td>0</td>\n",
              "      <td>0.830723</td>\n",
              "      <td>0.83075</td>\n",
              "      <td>0.830750</td>\n",
              "      <td>0.830688</td>\n",
              "      <td>0.830688</td>\n",
              "      <td>0.830739</td>\n",
              "    </tr>\n",
              "    <tr>\n",
              "      <th>0</th>\n",
              "      <td>Decision Tree</td>\n",
              "      <td>0.2693</td>\n",
              "      <td>0.2609</td>\n",
              "      <td>0.750934</td>\n",
              "      <td>0.75600</td>\n",
              "      <td>0.750188</td>\n",
              "      <td>0.753000</td>\n",
              "      <td>0.751125</td>\n",
              "      <td>0.744359</td>\n",
              "    </tr>\n",
              "  </tbody>\n",
              "</table>\n",
              "</div>\n",
              "      <button class=\"colab-df-convert\" onclick=\"convertToInteractive('df-2cdd4219-7a04-4189-92ee-433c56294625')\"\n",
              "              title=\"Convert this dataframe to an interactive table.\"\n",
              "              style=\"display:none;\">\n",
              "        \n",
              "  <svg xmlns=\"http://www.w3.org/2000/svg\" height=\"24px\"viewBox=\"0 0 24 24\"\n",
              "       width=\"24px\">\n",
              "    <path d=\"M0 0h24v24H0V0z\" fill=\"none\"/>\n",
              "    <path d=\"M18.56 5.44l.94 2.06.94-2.06 2.06-.94-2.06-.94-.94-2.06-.94 2.06-2.06.94zm-11 1L8.5 8.5l.94-2.06 2.06-.94-2.06-.94L8.5 2.5l-.94 2.06-2.06.94zm10 10l.94 2.06.94-2.06 2.06-.94-2.06-.94-.94-2.06-.94 2.06-2.06.94z\"/><path d=\"M17.41 7.96l-1.37-1.37c-.4-.4-.92-.59-1.43-.59-.52 0-1.04.2-1.43.59L10.3 9.45l-7.72 7.72c-.78.78-.78 2.05 0 2.83L4 21.41c.39.39.9.59 1.41.59.51 0 1.02-.2 1.41-.59l7.78-7.78 2.81-2.81c.8-.78.8-2.07 0-2.86zM5.41 20L4 18.59l7.72-7.72 1.47 1.35L5.41 20z\"/>\n",
              "  </svg>\n",
              "      </button>\n",
              "      \n",
              "  <style>\n",
              "    .colab-df-container {\n",
              "      display:flex;\n",
              "      flex-wrap:wrap;\n",
              "      gap: 12px;\n",
              "    }\n",
              "\n",
              "    .colab-df-convert {\n",
              "      background-color: #E8F0FE;\n",
              "      border: none;\n",
              "      border-radius: 50%;\n",
              "      cursor: pointer;\n",
              "      display: none;\n",
              "      fill: #1967D2;\n",
              "      height: 32px;\n",
              "      padding: 0 0 0 0;\n",
              "      width: 32px;\n",
              "    }\n",
              "\n",
              "    .colab-df-convert:hover {\n",
              "      background-color: #E2EBFA;\n",
              "      box-shadow: 0px 1px 2px rgba(60, 64, 67, 0.3), 0px 1px 3px 1px rgba(60, 64, 67, 0.15);\n",
              "      fill: #174EA6;\n",
              "    }\n",
              "\n",
              "    [theme=dark] .colab-df-convert {\n",
              "      background-color: #3B4455;\n",
              "      fill: #D2E3FC;\n",
              "    }\n",
              "\n",
              "    [theme=dark] .colab-df-convert:hover {\n",
              "      background-color: #434B5C;\n",
              "      box-shadow: 0px 1px 3px 1px rgba(0, 0, 0, 0.15);\n",
              "      filter: drop-shadow(0px 1px 2px rgba(0, 0, 0, 0.3));\n",
              "      fill: #FFFFFF;\n",
              "    }\n",
              "  </style>\n",
              "\n",
              "      <script>\n",
              "        const buttonEl =\n",
              "          document.querySelector('#df-2cdd4219-7a04-4189-92ee-433c56294625 button.colab-df-convert');\n",
              "        buttonEl.style.display =\n",
              "          google.colab.kernel.accessAllowed ? 'block' : 'none';\n",
              "\n",
              "        async function convertToInteractive(key) {\n",
              "          const element = document.querySelector('#df-2cdd4219-7a04-4189-92ee-433c56294625');\n",
              "          const dataTable =\n",
              "            await google.colab.kernel.invokeFunction('convertToInteractive',\n",
              "                                                     [key], {});\n",
              "          if (!dataTable) return;\n",
              "\n",
              "          const docLinkHtml = 'Like what you see? Visit the ' +\n",
              "            '<a target=\"_blank\" href=https://colab.research.google.com/notebooks/data_table.ipynb>data table notebook</a>'\n",
              "            + ' to learn more about interactive tables.';\n",
              "          element.innerHTML = '';\n",
              "          dataTable['output_type'] = 'display_data';\n",
              "          await google.colab.output.renderOutput(dataTable, element);\n",
              "          const docLink = document.createElement('div');\n",
              "          docLink.innerHTML = docLinkHtml;\n",
              "          element.appendChild(docLink);\n",
              "        }\n",
              "      </script>\n",
              "    </div>\n",
              "  </div>\n",
              "  "
            ]
          },
          "metadata": {},
          "execution_count": 33
        }
      ],
      "source": [
        "#Create a dataframe to store the results.\n",
        "entry_1 = {'Model': [\"Decision Tree\"],\n",
        "         'Precision' : ['0.2693'],\n",
        "         'Recall' : ['0.2609'],\n",
        "         'CrossVal_Mean': [scores_dt.mean()],         \n",
        "         'CrossVal1(r2)': [scores_dt[0]],\n",
        "         'CrossVal2(r2)': [scores_dt[1]],\n",
        "         'CrossVal3(r2)': [scores_dt[2]],\n",
        "         'CrossVal4(r2)': [scores_dt[3]],\n",
        "         'CrossVal5(r2)': [scores_dt[4]],\n",
        "        }\n",
        "\n",
        "result_1 = pd.DataFrame(entry_1)\n",
        "result = pd.concat([result,result_1])\n",
        "result"
      ]
    },
    {
      "cell_type": "code",
      "execution_count": 34,
      "metadata": {
        "colab": {
          "base_uri": "https://localhost:8080/"
        },
        "id": "JaMVo2k_P61O",
        "outputId": "ada0e19c-109e-4ee2-a7f9-3d755e513112"
      },
      "outputs": [
        {
          "output_type": "stream",
          "name": "stdout",
          "text": [
            "Cross Validation Scores:  [0.7985     0.794625   0.8005     0.8035625  0.79173698]\n",
            "Average CV Score:  0.7977848967122945\n"
          ]
        }
      ],
      "source": [
        "#Cross-Validation for Random Forest model.\n",
        "from sklearn.model_selection import KFold, cross_val_score\n",
        "\n",
        "scores_rf = cross_val_score(rf, X_train, y_train, cv = 5, n_jobs=-1)\n",
        "print(\"Cross Validation Scores: \", scores_rf)\n",
        "print(\"Average CV Score: \", scores_rf.mean())"
      ]
    },
    {
      "cell_type": "code",
      "execution_count": 35,
      "metadata": {
        "colab": {
          "base_uri": "https://localhost:8080/",
          "height": 143
        },
        "id": "r67gQ-YTasET",
        "outputId": "4a24d75f-2e10-4574-adfb-2b6547392ba7"
      },
      "outputs": [
        {
          "output_type": "execute_result",
          "data": {
            "text/plain": [
              "           Model Precision  Recall  CrossVal_Mean  CrossVal1(r2)  \\\n",
              "0       Baseline         0       0       0.830723        0.83075   \n",
              "0  Decision Tree    0.2693  0.2609       0.750934        0.75600   \n",
              "0  Random Forest    0.3436  0.1800       0.797785        0.79850   \n",
              "\n",
              "   CrossVal2(r2)  CrossVal3(r2)  CrossVal4(r2)  CrossVal5(r2)  \n",
              "0       0.830750       0.830688       0.830688       0.830739  \n",
              "0       0.750188       0.753000       0.751125       0.744359  \n",
              "0       0.794625       0.800500       0.803562       0.791737  "
            ],
            "text/html": [
              "\n",
              "  <div id=\"df-623555f0-891a-4d2d-a7d8-d02361348123\">\n",
              "    <div class=\"colab-df-container\">\n",
              "      <div>\n",
              "<style scoped>\n",
              "    .dataframe tbody tr th:only-of-type {\n",
              "        vertical-align: middle;\n",
              "    }\n",
              "\n",
              "    .dataframe tbody tr th {\n",
              "        vertical-align: top;\n",
              "    }\n",
              "\n",
              "    .dataframe thead th {\n",
              "        text-align: right;\n",
              "    }\n",
              "</style>\n",
              "<table border=\"1\" class=\"dataframe\">\n",
              "  <thead>\n",
              "    <tr style=\"text-align: right;\">\n",
              "      <th></th>\n",
              "      <th>Model</th>\n",
              "      <th>Precision</th>\n",
              "      <th>Recall</th>\n",
              "      <th>CrossVal_Mean</th>\n",
              "      <th>CrossVal1(r2)</th>\n",
              "      <th>CrossVal2(r2)</th>\n",
              "      <th>CrossVal3(r2)</th>\n",
              "      <th>CrossVal4(r2)</th>\n",
              "      <th>CrossVal5(r2)</th>\n",
              "    </tr>\n",
              "  </thead>\n",
              "  <tbody>\n",
              "    <tr>\n",
              "      <th>0</th>\n",
              "      <td>Baseline</td>\n",
              "      <td>0</td>\n",
              "      <td>0</td>\n",
              "      <td>0.830723</td>\n",
              "      <td>0.83075</td>\n",
              "      <td>0.830750</td>\n",
              "      <td>0.830688</td>\n",
              "      <td>0.830688</td>\n",
              "      <td>0.830739</td>\n",
              "    </tr>\n",
              "    <tr>\n",
              "      <th>0</th>\n",
              "      <td>Decision Tree</td>\n",
              "      <td>0.2693</td>\n",
              "      <td>0.2609</td>\n",
              "      <td>0.750934</td>\n",
              "      <td>0.75600</td>\n",
              "      <td>0.750188</td>\n",
              "      <td>0.753000</td>\n",
              "      <td>0.751125</td>\n",
              "      <td>0.744359</td>\n",
              "    </tr>\n",
              "    <tr>\n",
              "      <th>0</th>\n",
              "      <td>Random Forest</td>\n",
              "      <td>0.3436</td>\n",
              "      <td>0.1800</td>\n",
              "      <td>0.797785</td>\n",
              "      <td>0.79850</td>\n",
              "      <td>0.794625</td>\n",
              "      <td>0.800500</td>\n",
              "      <td>0.803562</td>\n",
              "      <td>0.791737</td>\n",
              "    </tr>\n",
              "  </tbody>\n",
              "</table>\n",
              "</div>\n",
              "      <button class=\"colab-df-convert\" onclick=\"convertToInteractive('df-623555f0-891a-4d2d-a7d8-d02361348123')\"\n",
              "              title=\"Convert this dataframe to an interactive table.\"\n",
              "              style=\"display:none;\">\n",
              "        \n",
              "  <svg xmlns=\"http://www.w3.org/2000/svg\" height=\"24px\"viewBox=\"0 0 24 24\"\n",
              "       width=\"24px\">\n",
              "    <path d=\"M0 0h24v24H0V0z\" fill=\"none\"/>\n",
              "    <path d=\"M18.56 5.44l.94 2.06.94-2.06 2.06-.94-2.06-.94-.94-2.06-.94 2.06-2.06.94zm-11 1L8.5 8.5l.94-2.06 2.06-.94-2.06-.94L8.5 2.5l-.94 2.06-2.06.94zm10 10l.94 2.06.94-2.06 2.06-.94-2.06-.94-.94-2.06-.94 2.06-2.06.94z\"/><path d=\"M17.41 7.96l-1.37-1.37c-.4-.4-.92-.59-1.43-.59-.52 0-1.04.2-1.43.59L10.3 9.45l-7.72 7.72c-.78.78-.78 2.05 0 2.83L4 21.41c.39.39.9.59 1.41.59.51 0 1.02-.2 1.41-.59l7.78-7.78 2.81-2.81c.8-.78.8-2.07 0-2.86zM5.41 20L4 18.59l7.72-7.72 1.47 1.35L5.41 20z\"/>\n",
              "  </svg>\n",
              "      </button>\n",
              "      \n",
              "  <style>\n",
              "    .colab-df-container {\n",
              "      display:flex;\n",
              "      flex-wrap:wrap;\n",
              "      gap: 12px;\n",
              "    }\n",
              "\n",
              "    .colab-df-convert {\n",
              "      background-color: #E8F0FE;\n",
              "      border: none;\n",
              "      border-radius: 50%;\n",
              "      cursor: pointer;\n",
              "      display: none;\n",
              "      fill: #1967D2;\n",
              "      height: 32px;\n",
              "      padding: 0 0 0 0;\n",
              "      width: 32px;\n",
              "    }\n",
              "\n",
              "    .colab-df-convert:hover {\n",
              "      background-color: #E2EBFA;\n",
              "      box-shadow: 0px 1px 2px rgba(60, 64, 67, 0.3), 0px 1px 3px 1px rgba(60, 64, 67, 0.15);\n",
              "      fill: #174EA6;\n",
              "    }\n",
              "\n",
              "    [theme=dark] .colab-df-convert {\n",
              "      background-color: #3B4455;\n",
              "      fill: #D2E3FC;\n",
              "    }\n",
              "\n",
              "    [theme=dark] .colab-df-convert:hover {\n",
              "      background-color: #434B5C;\n",
              "      box-shadow: 0px 1px 3px 1px rgba(0, 0, 0, 0.15);\n",
              "      filter: drop-shadow(0px 1px 2px rgba(0, 0, 0, 0.3));\n",
              "      fill: #FFFFFF;\n",
              "    }\n",
              "  </style>\n",
              "\n",
              "      <script>\n",
              "        const buttonEl =\n",
              "          document.querySelector('#df-623555f0-891a-4d2d-a7d8-d02361348123 button.colab-df-convert');\n",
              "        buttonEl.style.display =\n",
              "          google.colab.kernel.accessAllowed ? 'block' : 'none';\n",
              "\n",
              "        async function convertToInteractive(key) {\n",
              "          const element = document.querySelector('#df-623555f0-891a-4d2d-a7d8-d02361348123');\n",
              "          const dataTable =\n",
              "            await google.colab.kernel.invokeFunction('convertToInteractive',\n",
              "                                                     [key], {});\n",
              "          if (!dataTable) return;\n",
              "\n",
              "          const docLinkHtml = 'Like what you see? Visit the ' +\n",
              "            '<a target=\"_blank\" href=https://colab.research.google.com/notebooks/data_table.ipynb>data table notebook</a>'\n",
              "            + ' to learn more about interactive tables.';\n",
              "          element.innerHTML = '';\n",
              "          dataTable['output_type'] = 'display_data';\n",
              "          await google.colab.output.renderOutput(dataTable, element);\n",
              "          const docLink = document.createElement('div');\n",
              "          docLink.innerHTML = docLinkHtml;\n",
              "          element.appendChild(docLink);\n",
              "        }\n",
              "      </script>\n",
              "    </div>\n",
              "  </div>\n",
              "  "
            ]
          },
          "metadata": {},
          "execution_count": 35
        }
      ],
      "source": [
        "#Create a dataframe to store the results.\n",
        "entry_1 = {'Model': [\"Random Forest\"],\n",
        "         'Precision' : ['0.3436'],\n",
        "         'Recall' : ['0.1800'],\n",
        "         'CrossVal_Mean': [scores_rf.mean()],         \n",
        "         'CrossVal1(r2)': [scores_rf[0]],\n",
        "         'CrossVal2(r2)': [scores_rf[1]],\n",
        "         'CrossVal3(r2)': [scores_rf[2]],\n",
        "         'CrossVal4(r2)': [scores_rf[3]],\n",
        "         'CrossVal5(r2)': [scores_rf[4]],\n",
        "        }\n",
        "\n",
        "result_2 = pd.DataFrame(entry_1)\n",
        "result = pd.concat([result,result_2])\n",
        "result"
      ]
    },
    {
      "cell_type": "markdown",
      "metadata": {
        "id": "OlmSHNzeS5Su"
      },
      "source": [
        "**6. Based on the above evaluation metrics Logistic Regression seems to be the best method amongst the 3 models.**"
      ]
    },
    {
      "cell_type": "markdown",
      "metadata": {
        "id": "z7Yt4xrQWyRu"
      },
      "source": [
        "**7. Feature Selection- RFE**"
      ]
    },
    {
      "cell_type": "code",
      "execution_count": 36,
      "metadata": {
        "id": "NTU7hbYfS3Kh"
      },
      "outputs": [],
      "source": [
        "from sklearn.feature_selection import RFE\n",
        "import statsmodels.api as sm\n",
        "from sklearn.linear_model import LinearRegression\n",
        "from sklearn.metrics import mean_squared_error\n",
        "from sklearn.metrics import r2_score"
      ]
    },
    {
      "cell_type": "code",
      "source": [
        "lm = LinearRegression()\n",
        "lm.fit(X_train, y_train)"
      ],
      "metadata": {
        "colab": {
          "base_uri": "https://localhost:8080/"
        },
        "id": "I5sei-iWOZoR",
        "outputId": "bb7b703f-1bef-4a8d-99c5-042183acad60"
      },
      "execution_count": 37,
      "outputs": [
        {
          "output_type": "execute_result",
          "data": {
            "text/plain": [
              "LinearRegression()"
            ]
          },
          "metadata": {},
          "execution_count": 37
        }
      ]
    },
    {
      "cell_type": "code",
      "source": [
        "rfe = RFE(lm, n_features_to_select = None)\n",
        "rfe = rfe.fit(X_train, y_train)"
      ],
      "metadata": {
        "id": "8rMn4OYDOhVr"
      },
      "execution_count": 46,
      "outputs": []
    },
    {
      "cell_type": "code",
      "source": [
        "# Train a new linear model with RFE selected columns \n",
        "linear_regressor = LinearRegression()             \n",
        "linear_regressor.fit(X_train[col],y_train)"
      ],
      "metadata": {
        "colab": {
          "base_uri": "https://localhost:8080/"
        },
        "id": "-SPI9LyrKYSb",
        "outputId": "c9198f46-e2f9-4d0a-85db-4ed768398d16"
      },
      "execution_count": 47,
      "outputs": [
        {
          "output_type": "execute_result",
          "data": {
            "text/plain": [
              "LinearRegression()"
            ]
          },
          "metadata": {},
          "execution_count": 47
        }
      ]
    },
    {
      "cell_type": "code",
      "source": [
        "# Calculate the cross vall scores for the new model\n",
        "crossvalidation = cross_val_score(linear_regressor, X_train[col], y_train, cv=5, n_jobs=-1).mean()\n",
        "crossvalidation"
      ],
      "metadata": {
        "colab": {
          "base_uri": "https://localhost:8080/"
        },
        "id": "JPKy8-M8KlSq",
        "outputId": "785d2eb2-8e4c-40ee-a3fb-cc4b0c00bbec"
      },
      "execution_count": 48,
      "outputs": [
        {
          "output_type": "execute_result",
          "data": {
            "text/plain": [
              "0.012998705550833933"
            ]
          },
          "metadata": {},
          "execution_count": 48
        }
      ]
    },
    {
      "cell_type": "code",
      "source": [
        " # predictions on the train set. \n",
        "y_pred = linear_regressor.predict(X_train[col])\n",
        "#r2 and rmse value for the new model\n",
        "r2_val = r2_score(y_train,y_pred)\n",
        "rmse_error = mean_squared_error (y_train, y_pred, squared = False)"
      ],
      "metadata": {
        "id": "IxqS_qpCKwl6"
      },
      "execution_count": 49,
      "outputs": []
    },
    {
      "cell_type": "code",
      "source": [
        "# maintain a list for performance to analyze in future\n",
        "i_list = []\n",
        "r2_list = []\n",
        "rmse_list = []\n",
        "cross_val_list = []\n",
        "\n",
        "i_list.append(i)\n",
        "r2_list.append(r2_val)\n",
        "rmse_list.append(rmse_error)\n",
        "cross_val_list.append(crossvalidation)"
      ],
      "metadata": {
        "id": "nYIEQ0bNL7nO"
      },
      "execution_count": 50,
      "outputs": []
    },
    {
      "cell_type": "code",
      "source": [
        "#Printing the outputs\n",
        "print (i)\n",
        "print (\"R2 score for the model is :\",r2_val )\n",
        "print (\"RMSE error for the model is :\",rmse_error )\n",
        "print (\"Mean Cross Validation Score (r2) :\",crossvalidation )\n",
        "print (\"==================================================\")"
      ],
      "metadata": {
        "colab": {
          "base_uri": "https://localhost:8080/"
        },
        "id": "-6vxtzc5Mxp7",
        "outputId": "3830d0cb-6706-4148-bd3c-248016472008"
      },
      "execution_count": 45,
      "outputs": [
        {
          "output_type": "stream",
          "name": "stdout",
          "text": [
            "247\n",
            "R2 score for the model is : 0.013825503812316509\n",
            "RMSE error for the model is : 0.37239521856139673\n",
            "Mean Cross Validation Score (r2) : 0.012998705550833933\n",
            "==================================================\n"
          ]
        }
      ]
    }
  ],
  "metadata": {
    "colab": {
      "provenance": []
    },
    "kernelspec": {
      "display_name": "Python 3",
      "name": "python3"
    },
    "language_info": {
      "name": "python"
    }
  },
  "nbformat": 4,
  "nbformat_minor": 0
}